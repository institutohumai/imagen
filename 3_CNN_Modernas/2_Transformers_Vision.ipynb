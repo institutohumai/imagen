{
  "cells": [
    {
      "cell_type": "markdown",
      "source": [
        "<a href=\"https://colab.research.google.com/github/institutohumai/cursos-python/blob/master/CV/3_CNN_Modernas/2_Transformers_Vision.ipynb\"> <img src='https://colab.research.google.com/assets/colab-badge.svg' /> </a>"
      ],
      "metadata": {
        "id": "7E_s7xHaU6W5"
      },
      "id": "7E_s7xHaU6W5"
    },
    {
      "cell_type": "markdown",
      "id": "0961be0a",
      "metadata": {
        "origin_pos": 1,
        "id": "0961be0a"
      },
      "source": [
        "\n",
        "# Transformers para Visión\n",
        "\n",
        "La arquitectura del tranformer se propuso inicialmente para el aprendizaje de secuencia a secuencia, como la traducción automática. Con gran eficacia, los tranformers se convirtieron posteriormente en el modelo de elección en diversas tareas de procesamiento del lenguaje natural.\n",
        "Sin embargo, en el campo de la visión artificial la arquitectura dominante\n",
        "se había basado en las CNN. *¿Podemos adaptar tranformers para modelar datos de imagen*? Esta pregunta ha despertado un gran interés en la comunidad de visión artificial. Un [paper del 2020](https://arxiv.org/pdf/1911.03584.pdf) demostró teóricamente que la autoatención puede aprender a comportarse de manera similar a la convolución. Empíricamente, se tomaron parches de $2 \\times 2$ de las imágenes como entrada, pero el pequeño tamaño del parche hace que el modelo solo sea aplicable a datos de imágenes con resoluciones bajas.\n",
        "\n",
        "Sin restricciones específicas sobre el tamaño del parche, los *tranformers de visión* (ViT) extraen parches de las imágenes y los introducen en un encoder de tranformer para obtener una representación global, que finalmente se transformará para la clasificación. En particular, los tranformers muestran una mejor escalabilidad que las CNN: cuando se entrenan modelos más grandes en conjuntos de datos más grandes, los tranformers de visión superan a los ResNet por un margen significativo. Similar al panorama del diseño de arquitectura de red en el procesamiento del lenguaje natural, los tranformers también cambiaron las reglas del juego en la visión por computadora.\n",
        "\n",
        "\n"
      ]
    },
    {
      "cell_type": "markdown",
      "source": [
        "## Modelo\n",
        "\n"
      ],
      "metadata": {
        "id": "jZV6zXmG0UR2"
      },
      "id": "jZV6zXmG0UR2"
    },
    {
      "cell_type": "markdown",
      "source": [
        "La siguiente figura representa la arquitectura modelo de los tranformers de visión. Esta arquitectura consta de una base que parchea las imágenes, un cuerpo basado en el encoder de un tranformer multicapa y una cabeza que transforma la representación global en la etiqueta de salida.\n",
        "\n",
        "![Imgur](https://i.imgur.com/4qOAWmXl.png)"
      ],
      "metadata": {
        "id": "Bc9OwY7S1Acy"
      },
      "id": "Bc9OwY7S1Acy"
    },
    {
      "cell_type": "markdown",
      "source": [
        "\n",
        "\n",
        "\n",
        "Considere una imagen de entrada con altura $h$, ancho $w$ y $c$ canales. Especificando la altura y el ancho del parche como $p$,\n",
        "la imagen se divide en una secuencia de $m = hw/p^2$ parches,\n",
        "donde cada parche se aplana a un vector de longitud $cp^2$.\n",
        "De esta forma, los parches de imagen pueden ser tratados de manera similar a los tokens en secuencias de texto por encoderes de tranformeres. Un token especial “&lt;cls&gt;” (clasificación) y los $m$ parches de imagen aplanados se proyectan linealmente en una secuencia de vectores $m+1$, sumados con embeddings posicionales que se pueden aprender. El encoder de tranformer multicapa transforma los vectores de entrada $m+1$ en la misma cantidad de representaciones de vectores de salida de la misma longitud. Funciona exactamente de la misma manera que el encoder del tranformer original, solo que difiere en la posición de normalización. Dado que el token “&lt;cls&gt;”  atiende a todos los parches de imagen a través de la autoatención su representación desde la salida del encoder del tranformer\n",
        "se transformará en la etiqueta de salida."
      ],
      "metadata": {
        "id": "88uoaNh309EL"
      },
      "id": "88uoaNh309EL"
    },
    {
      "cell_type": "code",
      "execution_count": null,
      "id": "1f71ea1a",
      "metadata": {
        "attributes": {
          "classes": [],
          "id": "",
          "n": "1"
        },
        "execution": {
          "iopub.execute_input": "2022-07-15T06:41:59.444005Z",
          "iopub.status.busy": "2022-07-15T06:41:59.443555Z",
          "iopub.status.idle": "2022-07-15T06:42:02.846293Z",
          "shell.execute_reply": "2022-07-15T06:42:02.845345Z"
        },
        "origin_pos": 2,
        "tab": [
          "pytorch"
        ],
        "id": "1f71ea1a"
      },
      "outputs": [],
      "source": [
        "import torch\n",
        "from torch import nn"
      ]
    },
    {
      "cell_type": "markdown",
      "id": "f7d9ecaa",
      "metadata": {
        "origin_pos": 3,
        "id": "f7d9ecaa"
      },
      "source": [
        "## Patch Embedding\n",
        "\n",
        "Para implementar un transformer de visión, comencemos con los embeddings de los parches. Dividir una imagen en parches y proyectar linealmente estos parches aplanados se puede simplificar como una sola operación de convolución, donde tanto el tamaño del kernel como el tamaño del stride se establecen en el tamaño del parche.\n"
      ]
    },
    {
      "cell_type": "code",
      "execution_count": null,
      "id": "a471f1e7",
      "metadata": {
        "attributes": {
          "classes": [],
          "id": "",
          "n": "2"
        },
        "execution": {
          "iopub.execute_input": "2022-07-15T06:42:02.850937Z",
          "iopub.status.busy": "2022-07-15T06:42:02.850257Z",
          "iopub.status.idle": "2022-07-15T06:42:02.856859Z",
          "shell.execute_reply": "2022-07-15T06:42:02.856024Z"
        },
        "origin_pos": 4,
        "tab": [
          "pytorch"
        ],
        "id": "a471f1e7"
      },
      "outputs": [],
      "source": [
        "class PatchEmbedding(nn.Module):\n",
        "    def __init__(self, img_size=96, patch_size=16, num_hiddens=512):\n",
        "        super().__init__()\n",
        "        img_size, patch_size = (img_size,img_size), (patch_size,patch_size)\n",
        "        self.num_patches = (img_size[0] // patch_size[0]) * (\n",
        "            img_size[1] // patch_size[1])\n",
        "        self.conv = nn.LazyConv2d(num_hiddens, kernel_size=patch_size,\n",
        "                                  stride=patch_size)\n",
        "\n",
        "    def forward(self, X):\n",
        "        # Output shape: (batch size, no. of patches, no. of channels)\n",
        "        return self.conv(X).flatten(2).transpose(1, 2)"
      ]
    },
    {
      "cell_type": "markdown",
      "id": "ad2220c7",
      "metadata": {
        "origin_pos": 5,
        "id": "ad2220c7"
      },
      "source": [
        "En el siguiente ejemplo, tomando imágenes con una altura y un ancho de `img_size` como entrada, se generan `(img_size//patch_size)**2` parches que se proyectan linealmente en vectores de longitud `num_hiddens`.\n"
      ]
    },
    {
      "cell_type": "code",
      "execution_count": null,
      "id": "154fffcc",
      "metadata": {
        "attributes": {
          "classes": [],
          "id": "",
          "n": "9"
        },
        "execution": {
          "iopub.execute_input": "2022-07-15T06:42:02.989415Z",
          "iopub.status.busy": "2022-07-15T06:42:02.988790Z",
          "iopub.status.idle": "2022-07-15T06:42:03.005700Z",
          "shell.execute_reply": "2022-07-15T06:42:03.004839Z"
        },
        "origin_pos": 6,
        "tab": [
          "pytorch"
        ],
        "id": "154fffcc"
      },
      "outputs": [],
      "source": [
        "def check_shape(a, shape):\n",
        "    \"\"\"Defined in :numref:`sec_rnn-scratch`\"\"\"\n",
        "    assert a.shape == shape, \\\n",
        "            f'tensor\\'s shape {a.shape} != expected shape {shape}'\n",
        "\n",
        "img_size, patch_size, num_hiddens, batch_size = 96, 16, 512, 4\n",
        "patch_emb = PatchEmbedding(img_size, patch_size, num_hiddens)\n",
        "X = torch.randn(batch_size, 3, img_size, img_size)\n",
        "check_shape(patch_emb(X),\n",
        "                (batch_size, (img_size//patch_size)**2, num_hiddens))"
      ]
    },
    {
      "cell_type": "markdown",
      "id": "2c3bc9cd",
      "metadata": {
        "origin_pos": 7,
        "id": "2c3bc9cd"
      },
      "source": [
        "## Encoder del Transformer de Vision\n",
        "\n",
        "El MLP del encoder transformer de visión es ligeramente diferente del a la red feed forward posicional del encoder del transformer original. Primero, aquí la función de activación usa la unidad lineal de error gaussiano (GELU), que puede considerarse como una versión más suave de ReLU. En segundo lugar, el dropout se aplica a la salida de cada capa densa en el MLP para la regularización."
      ]
    },
    {
      "cell_type": "code",
      "execution_count": null,
      "id": "9405e9a0",
      "metadata": {
        "execution": {
          "iopub.execute_input": "2022-07-15T06:42:03.010555Z",
          "iopub.status.busy": "2022-07-15T06:42:03.010095Z",
          "iopub.status.idle": "2022-07-15T06:42:03.015843Z",
          "shell.execute_reply": "2022-07-15T06:42:03.015018Z"
        },
        "origin_pos": 8,
        "tab": [
          "pytorch"
        ],
        "id": "9405e9a0"
      },
      "outputs": [],
      "source": [
        "class ViTMLP(nn.Module):\n",
        "    def __init__(self, mlp_num_hiddens, mlp_num_outputs, dropout=0.5):\n",
        "        super().__init__()\n",
        "        self.dense1 = nn.LazyLinear(mlp_num_hiddens)\n",
        "        self.gelu = nn.GELU()\n",
        "        self.dropout1 = nn.Dropout(dropout)\n",
        "        self.dense2 = nn.LazyLinear(mlp_num_outputs)\n",
        "        self.dropout2 = nn.Dropout(dropout)\n",
        "\n",
        "    def forward(self, x):\n",
        "        return self.dropout2(self.dense2(self.dropout1(self.gelu(\n",
        "            self.dense1(x)))))"
      ]
    },
    {
      "cell_type": "markdown",
      "id": "257f192b",
      "metadata": {
        "origin_pos": 9,
        "id": "257f192b"
      },
      "source": [
        "La implementación del bloque del encoder del transformer de visión simplemente sigue el diseño de prenormalización, donde la normalización se aplica justo *antes* de la atención multiples cabezales o el MLP. A diferencia de la posnormalización, donde la normalización se coloca justo *después* de las conexiones residuales, la prenormalización conduce a un entrenamiento más efectivo o eficiente para los transformers.\n"
      ]
    },
    {
      "cell_type": "code",
      "source": [
        "# @markdown class MultiHeadAttentionLayer\n",
        "class MultiHeadAttentionLayer(nn.Module):\n",
        "    def __init__(self, hid_dim, n_heads, dropout, device):\n",
        "        super().__init__()\n",
        "        \n",
        "        assert hid_dim % n_heads == 0\n",
        "        \n",
        "        self.hid_dim = hid_dim\n",
        "        self.n_heads = n_heads\n",
        "        self.head_dim = hid_dim // n_heads\n",
        "        \n",
        "        self.fc_q = nn.Linear(hid_dim, hid_dim)\n",
        "        self.fc_k = nn.Linear(hid_dim, hid_dim)\n",
        "        self.fc_v = nn.Linear(hid_dim, hid_dim)\n",
        "        \n",
        "        self.fc_o = nn.Linear(hid_dim, hid_dim)\n",
        "        \n",
        "        self.dropout = nn.Dropout(dropout)\n",
        "        \n",
        "        self.scale = torch.sqrt(torch.FloatTensor([self.head_dim])).to(device)\n",
        "        \n",
        "    def forward(self, query, key, value, mask = None):\n",
        "        \n",
        "        batch_size = query.shape[0]\n",
        "        \n",
        "        #query = [batch size, query len, hid dim]\n",
        "        #key = [batch size, key len, hid dim]\n",
        "        #value = [batch size, value len, hid dim]\n",
        "                \n",
        "        Q = self.fc_q(query)\n",
        "        K = self.fc_k(key)\n",
        "        V = self.fc_v(value)\n",
        "        \n",
        "        #Q = [batch size, query len, hid dim]\n",
        "        #K = [batch size, key len, hid dim]\n",
        "        #V = [batch size, value len, hid dim]\n",
        "                \n",
        "        Q = Q.view(batch_size, -1, self.n_heads, self.head_dim).permute(0, 2, 1, 3)\n",
        "        K = K.view(batch_size, -1, self.n_heads, self.head_dim).permute(0, 2, 1, 3)\n",
        "        V = V.view(batch_size, -1, self.n_heads, self.head_dim).permute(0, 2, 1, 3)\n",
        "        \n",
        "        #Q = [batch size, n heads, query len, head dim]\n",
        "        #K = [batch size, n heads, key len, head dim]\n",
        "        #V = [batch size, n heads, value len, head dim]\n",
        "                \n",
        "        energy = torch.matmul(Q, K.permute(0, 1, 3, 2)) / self.scale\n",
        "        \n",
        "        #energy = [batch size, n heads, query len, key len]\n",
        "        \n",
        "        if mask is not None:\n",
        "            energy = energy.masked_fill(mask == 0, -1e10)\n",
        "        \n",
        "        attention = torch.softmax(energy, dim = -1)\n",
        "                \n",
        "        #attention = [batch size, n heads, query len, key len]\n",
        "                \n",
        "        x = torch.matmul(self.dropout(attention), V)\n",
        "        \n",
        "        #x = [batch size, n heads, query len, head dim]\n",
        "        \n",
        "        x = x.permute(0, 2, 1, 3).contiguous()\n",
        "        \n",
        "        #x = [batch size, query len, n heads, head dim]\n",
        "        \n",
        "        x = x.view(batch_size, -1, self.hid_dim)\n",
        "        \n",
        "        #x = [batch size, query len, hid dim]\n",
        "        \n",
        "        x = self.fc_o(x)\n",
        "        \n",
        "        #x = [batch size, query len, hid dim]\n",
        "        \n",
        "        return x, attention"
      ],
      "metadata": {
        "id": "vX-AMCcH6OWJ",
        "cellView": "form"
      },
      "id": "vX-AMCcH6OWJ",
      "execution_count": null,
      "outputs": []
    },
    {
      "cell_type": "code",
      "execution_count": null,
      "id": "ada33a3a",
      "metadata": {
        "execution": {
          "iopub.execute_input": "2022-07-15T06:42:03.019409Z",
          "iopub.status.busy": "2022-07-15T06:42:03.018859Z",
          "iopub.status.idle": "2022-07-15T06:42:03.025039Z",
          "shell.execute_reply": "2022-07-15T06:42:03.024130Z"
        },
        "origin_pos": 10,
        "tab": [
          "pytorch"
        ],
        "id": "ada33a3a"
      },
      "outputs": [],
      "source": [
        "class ViTBlock(nn.Module):\n",
        "    def __init__(self, num_hiddens, norm_shape, mlp_num_hiddens,\n",
        "                 num_heads, dropout, device):\n",
        "        super().__init__()\n",
        "        self.ln1 = nn.LayerNorm(norm_shape).to(device)\n",
        "        self.attention = MultiHeadAttentionLayer(num_hiddens, num_heads,\n",
        "                                                dropout, device).to(device)\n",
        "        self.ln2 = nn.LayerNorm(norm_shape).to(device)\n",
        "        self.mlp = ViTMLP(mlp_num_hiddens, num_hiddens, dropout).to(device)\n",
        "\n",
        "    def forward(self, X, mask=None):\n",
        "        X = self.ln1(X)\n",
        "        att_output , _ = self.attention(X, X, X, mask)\n",
        "        return X + self.mlp(self.ln2(X + att_output))"
      ]
    },
    {
      "cell_type": "markdown",
      "id": "baccffbb",
      "metadata": {
        "origin_pos": 11,
        "id": "baccffbb"
      },
      "source": [
        "Igual que en el transformer original, cualquier bloque de encoder de transformer de visión no cambia su forma de entrada.\n"
      ]
    },
    {
      "cell_type": "code",
      "execution_count": null,
      "id": "d591ec99",
      "metadata": {
        "execution": {
          "iopub.execute_input": "2022-07-15T06:42:03.030482Z",
          "iopub.status.busy": "2022-07-15T06:42:03.029958Z",
          "iopub.status.idle": "2022-07-15T06:42:03.045458Z",
          "shell.execute_reply": "2022-07-15T06:42:03.044521Z"
        },
        "origin_pos": 12,
        "tab": [
          "pytorch"
        ],
        "id": "d591ec99"
      },
      "outputs": [],
      "source": [
        "device = torch.device('cuda' if torch.cuda.is_available() else 'cpu')\n",
        "X = torch.ones((2, 100, 24)).to(device)\n",
        "encoder_blk = ViTBlock(24, 24, 48, 8, 0.5, device)\n",
        "encoder_blk.eval()\n",
        "check_shape(encoder_blk(X), X.shape)"
      ]
    },
    {
      "cell_type": "markdown",
      "id": "302c814e",
      "metadata": {
        "origin_pos": 13,
        "id": "302c814e"
      },
      "source": [
        "## Juntar todo\n",
        "\n",
        "El paso hacia adelante de los transformers de visión es sencillo. Primero, las imágenes de entrada se introducen en una instancia `PatchEmbedding`, cuya salida se concatena con el embedding del token “&lt;cls&gt;”. Se suman los embeddings posicionales aprendibles antes del dropout. Luego, la salida se alimenta al encoder del transformer que apila las instancias `num_blks` de la clase `ViTBlock`. Finalmente, la representación del token “&lt;cls&gt;” token es proyectado por la cabeza de la red.\n"
      ]
    },
    {
      "cell_type": "code",
      "execution_count": null,
      "id": "b30a72d4",
      "metadata": {
        "execution": {
          "iopub.execute_input": "2022-07-15T06:42:03.050757Z",
          "iopub.status.busy": "2022-07-15T06:42:03.050229Z",
          "iopub.status.idle": "2022-07-15T06:42:03.059230Z",
          "shell.execute_reply": "2022-07-15T06:42:03.058402Z"
        },
        "origin_pos": 14,
        "tab": [
          "pytorch"
        ],
        "id": "b30a72d4"
      },
      "outputs": [],
      "source": [
        "class ViT(nn.Module):\n",
        "    \"\"\"Vision transformer.\"\"\"\n",
        "    def __init__(self, img_size, patch_size, num_hiddens, mlp_num_hiddens,\n",
        "                 num_heads, num_blks, emb_dropout, blk_dropout,device, lr=0.1,\n",
        "                 use_bias=False, num_classes=10):\n",
        "        super().__init__()\n",
        "        self.patch_embedding = PatchEmbedding(\n",
        "            img_size, patch_size, num_hiddens)\n",
        "        self.cls_token = nn.Parameter(torch.zeros(1, 1, num_hiddens))\n",
        "        num_steps = self.patch_embedding.num_patches + 1  # Add the cls token\n",
        "        # Positional embeddings are learnable\n",
        "        self.pos_embedding = nn.Parameter(\n",
        "            torch.randn(1, num_steps, num_hiddens))\n",
        "        self.dropout = nn.Dropout(emb_dropout)\n",
        "        self.blks = nn.Sequential()\n",
        "        for i in range(num_blks):\n",
        "            self.blks.add_module(f\"{i}\", ViTBlock(\n",
        "                num_hiddens, num_hiddens, mlp_num_hiddens,\n",
        "                num_heads, blk_dropout,device))\n",
        "        self.head = nn.Sequential(nn.LayerNorm(num_hiddens),\n",
        "                                  nn.Linear(num_hiddens, num_classes))\n",
        "\n",
        "    def forward(self, X):\n",
        "        X = self.patch_embedding(X)\n",
        "        X = torch.cat((self.cls_token.expand(X.shape[0], -1, -1), X), 1)\n",
        "        X = self.dropout(X + self.pos_embedding)\n",
        "        for blk in self.blks:\n",
        "            X = blk(X)\n",
        "        return self.head(X[:, 0])"
      ]
    },
    {
      "cell_type": "markdown",
      "id": "be5a7e07",
      "metadata": {
        "origin_pos": 15,
        "id": "be5a7e07"
      },
      "source": [
        "## Training\n",
        "\n",
        "Training a vision transformer on the Fashion-MNIST dataset is just like how CNNs were trained in :numref:`chap_modern_cnn`.\n"
      ]
    },
    {
      "cell_type": "code",
      "execution_count": null,
      "metadata": {
        "id": "9V2xOCMYVczm"
      },
      "outputs": [],
      "source": [
        "import torchvision\n",
        "from torchvision import transforms\n",
        "from torch.utils import data\n",
        "\n",
        "def load_data_fashion_mnist(batch_size, resize=None):\n",
        "    trans = [transforms.ToTensor()]\n",
        "    if resize:\n",
        "        trans.insert(0, transforms.Resize(resize))\n",
        "    trans = transforms.Compose(trans)\n",
        "    mnist_train = torchvision.datasets.FashionMNIST(\n",
        "        root=\"../data\", train=True, transform=trans, download=True)\n",
        "    mnist_test = torchvision.datasets.FashionMNIST(\n",
        "        root=\"../data\", train=False, transform=trans, download=True)\n",
        "    return (data.DataLoader(mnist_train, batch_size, shuffle=True,\n",
        "                            num_workers=1),\n",
        "            data.DataLoader(mnist_test, batch_size, shuffle=False,\n",
        "                            num_workers=1))\n",
        "    \n",
        "def accuracy(y_hat, y):\n",
        "    \"\"\"Compute the number of correct predictions.\"\"\"\n",
        "    if len(y_hat.shape) > 1 and y_hat.shape[1] > 1:\n",
        "        y_hat = y_hat.argmax(axis=1)\n",
        "    cmp = y_hat.type(y.dtype) == y\n",
        "    return float(cmp.type(y.dtype).sum())\n"
      ],
      "id": "9V2xOCMYVczm"
    },
    {
      "cell_type": "code",
      "execution_count": null,
      "metadata": {
        "id": "DTQztRR4zs2O"
      },
      "outputs": [],
      "source": [
        "def train_FashionMNIST_classifier(model, lr, num_epochs, resize=None):\n",
        "  batch_size= 128\n",
        "  device = torch.device('cuda' if torch.cuda.is_available() else 'cpu')\n",
        "  model = model.to(device)\n",
        "  loss = nn.CrossEntropyLoss(reduction='none')\n",
        "  trainer = torch.optim.Adam(model.parameters())\n",
        "  train_iter, test_iter = load_data_fashion_mnist(batch_size,resize=resize)\n",
        "\n",
        "  for epoch in range(num_epochs):\n",
        "      L = 0.0\n",
        "      N = 0\n",
        "      Acc = 0.0\n",
        "      TestAcc = 0.0\n",
        "      TestN = 0\n",
        "      for X, y in train_iter:\n",
        "          X, y = X.to(device), y.to(device)\n",
        "          l = loss(model(X),y)\n",
        "          trainer.zero_grad()\n",
        "          l.mean().backward()\n",
        "          trainer.step()\n",
        "          L += l.sum()\n",
        "          N += l.numel()\n",
        "          Acc += accuracy(model(X), y)\n",
        "          #print(L)\n",
        "      for X, y in test_iter:\n",
        "          X, y = X.to(device), y.to(device)\n",
        "          TestN += y.numel()\n",
        "          TestAcc += accuracy(model(X), y)\n",
        "      print(f'epoch {epoch + 1}, loss {(L/N):f}\\\n",
        "            , train accuracy  {(Acc/N):f}, test accuracy {(TestAcc/TestN):f}')"
      ],
      "id": "DTQztRR4zs2O"
    },
    {
      "cell_type": "code",
      "execution_count": null,
      "metadata": {
        "colab": {
          "base_uri": "https://localhost:8080/",
          "height": 597,
          "referenced_widgets": [
            "728979a7ef8144be957549e204c5dfbf",
            "2a69efd6b0a04e78a363c9525c8571ab",
            "c6c0adcac6c04f7c9cbe31d54f7b5b40",
            "f1165e1188034a4e8b1bc23689ef86c4",
            "9cf28d6b9cab42148f93a3af812cca65",
            "2d76d2e2071b4b87b5b2b57805000d6b",
            "c121205293b04ad480714a711479e051",
            "2d0071b244c94092aa6cca1c46fd5150",
            "826b5209d8fd4fcb92f71f4a671dd4f2",
            "bb83ef2487144b39aa96e79fe527436f",
            "226b2879463f4c3db9509489531c3020",
            "b981b01a91f249a6bb4205d09300b3ee",
            "22da2e134d20421d91f1a0b3455e8a7f",
            "28254e0d84af4cc7b29ff78e1e497c65",
            "606e625b796347a493c38b7dd4163de8",
            "779910a5715e4862ba715bbd2f51bb36",
            "78eea69809a5453b864491010ea364f0",
            "eede117b16694e3da93b704e50dd504b",
            "09317068217643b0b08c1bf3a3391502",
            "664b60fea06646f48dce4216f744ffc5",
            "9e5d799848a342449f81d91b03cde83c",
            "45ef8898c1104c0bac65f76054a7858d",
            "2abd15870593423b81c7d24a4403ca79",
            "78f66bad550046f5aea9d3327abf57c0",
            "72301f38a5e4499bb3fc61725d968076",
            "c63e15e6b1cf40d29e72c65fb8d99fa8",
            "dedd3e11ea194f8fa6b35de767326fda",
            "fec33fa2b529440bb07a2a65b12b8562",
            "08432aef9e824fbb91f6eb065947f139",
            "e61f117a215f40c089c0517d07f92c19",
            "17638cdae3a34168a5ec0cd1fb8179bd",
            "ffe7e9fd89644201a8b7da96d945efec",
            "678d9e5e9e87451ab25a17386c5369ba",
            "38138f9049384fecafa4bde588294806",
            "64d5ac3cf4974dd69805c5633362239f",
            "4237d33f6e40451e865f4facdbc15fd8",
            "de911742b82e42a09b38d396587c4f22",
            "17eff77f655045f6b3c834ffc8b0a08e",
            "027477198f3a4e4b99d68a2e4fe39b60",
            "b6382f3abf5343c8b7e7dc1c62233cc6",
            "838f3fce8f034d9cb00012d35ce2ae48",
            "58eed047c44a4ccc8c61bbec0253e7e1",
            "f72d2a4bbb5042d3a862aca583045e42",
            "fff8402e8d4444eb948b06a8526ace5c"
          ]
        },
        "id": "vob7s30JUitD",
        "outputId": "0cc9bd4a-ffca-40a6-bb0f-dde8f0250e8c"
      },
      "outputs": [
        {
          "output_type": "stream",
          "name": "stdout",
          "text": [
            "Downloading http://fashion-mnist.s3-website.eu-central-1.amazonaws.com/train-images-idx3-ubyte.gz\n",
            "Downloading http://fashion-mnist.s3-website.eu-central-1.amazonaws.com/train-images-idx3-ubyte.gz to ../data/FashionMNIST/raw/train-images-idx3-ubyte.gz\n"
          ]
        },
        {
          "output_type": "display_data",
          "data": {
            "text/plain": [
              "  0%|          | 0/26421880 [00:00<?, ?it/s]"
            ],
            "application/vnd.jupyter.widget-view+json": {
              "version_major": 2,
              "version_minor": 0,
              "model_id": "728979a7ef8144be957549e204c5dfbf"
            }
          },
          "metadata": {}
        },
        {
          "output_type": "stream",
          "name": "stdout",
          "text": [
            "Extracting ../data/FashionMNIST/raw/train-images-idx3-ubyte.gz to ../data/FashionMNIST/raw\n",
            "\n",
            "Downloading http://fashion-mnist.s3-website.eu-central-1.amazonaws.com/train-labels-idx1-ubyte.gz\n",
            "Downloading http://fashion-mnist.s3-website.eu-central-1.amazonaws.com/train-labels-idx1-ubyte.gz to ../data/FashionMNIST/raw/train-labels-idx1-ubyte.gz\n"
          ]
        },
        {
          "output_type": "display_data",
          "data": {
            "text/plain": [
              "  0%|          | 0/29515 [00:00<?, ?it/s]"
            ],
            "application/vnd.jupyter.widget-view+json": {
              "version_major": 2,
              "version_minor": 0,
              "model_id": "b981b01a91f249a6bb4205d09300b3ee"
            }
          },
          "metadata": {}
        },
        {
          "output_type": "stream",
          "name": "stdout",
          "text": [
            "Extracting ../data/FashionMNIST/raw/train-labels-idx1-ubyte.gz to ../data/FashionMNIST/raw\n",
            "\n",
            "Downloading http://fashion-mnist.s3-website.eu-central-1.amazonaws.com/t10k-images-idx3-ubyte.gz\n",
            "Downloading http://fashion-mnist.s3-website.eu-central-1.amazonaws.com/t10k-images-idx3-ubyte.gz to ../data/FashionMNIST/raw/t10k-images-idx3-ubyte.gz\n"
          ]
        },
        {
          "output_type": "display_data",
          "data": {
            "text/plain": [
              "  0%|          | 0/4422102 [00:00<?, ?it/s]"
            ],
            "application/vnd.jupyter.widget-view+json": {
              "version_major": 2,
              "version_minor": 0,
              "model_id": "2abd15870593423b81c7d24a4403ca79"
            }
          },
          "metadata": {}
        },
        {
          "output_type": "stream",
          "name": "stdout",
          "text": [
            "Extracting ../data/FashionMNIST/raw/t10k-images-idx3-ubyte.gz to ../data/FashionMNIST/raw\n",
            "\n",
            "Downloading http://fashion-mnist.s3-website.eu-central-1.amazonaws.com/t10k-labels-idx1-ubyte.gz\n",
            "Downloading http://fashion-mnist.s3-website.eu-central-1.amazonaws.com/t10k-labels-idx1-ubyte.gz to ../data/FashionMNIST/raw/t10k-labels-idx1-ubyte.gz\n"
          ]
        },
        {
          "output_type": "display_data",
          "data": {
            "text/plain": [
              "  0%|          | 0/5148 [00:00<?, ?it/s]"
            ],
            "application/vnd.jupyter.widget-view+json": {
              "version_major": 2,
              "version_minor": 0,
              "model_id": "38138f9049384fecafa4bde588294806"
            }
          },
          "metadata": {}
        },
        {
          "output_type": "stream",
          "name": "stdout",
          "text": [
            "Extracting ../data/FashionMNIST/raw/t10k-labels-idx1-ubyte.gz to ../data/FashionMNIST/raw\n",
            "\n",
            "epoch 1, loss 0.826274            , train accuracy  0.701333, test accuracy 0.755600\n",
            "epoch 2, loss 0.586331            , train accuracy  0.791700, test accuracy 0.776000\n",
            "epoch 3, loss 0.545117            , train accuracy  0.805550, test accuracy 0.804200\n",
            "epoch 4, loss 0.610295            , train accuracy  0.778200, test accuracy 0.715400\n",
            "epoch 5, loss 0.660155            , train accuracy  0.756983, test accuracy 0.745100\n",
            "epoch 6, loss 0.674837            , train accuracy  0.755283, test accuracy 0.743400\n",
            "epoch 7, loss 0.717554            , train accuracy  0.732617, test accuracy 0.748000\n",
            "epoch 8, loss 0.677545            , train accuracy  0.749767, test accuracy 0.755100\n",
            "epoch 9, loss 0.603885            , train accuracy  0.777017, test accuracy 0.774900\n",
            "epoch 10, loss 0.571257            , train accuracy  0.789967, test accuracy 0.781700\n"
          ]
        }
      ],
      "source": [
        "lr, num_epochs = 0.1, 10\n",
        "img_size, patch_size = 96, 16\n",
        "num_hiddens, mlp_num_hiddens, num_heads, num_blks = 512, 2048, 8, 2\n",
        "emb_dropout, blk_dropout = 0.1, 0.1\n",
        "model = ViT(img_size, patch_size, num_hiddens, mlp_num_hiddens, num_heads,\n",
        "            num_blks, emb_dropout, blk_dropout, device, lr )\n",
        "\n",
        "train_FashionMNIST_classifier(model,lr,num_epochs,resize=(img_size, img_size))\n"
      ],
      "id": "vob7s30JUitD"
    },
    {
      "cell_type": "markdown",
      "source": [
        "Puede notar que para datasets pequeños como Fashion-MNIST, nuestro transformer de visión implementado no supera a ResNet. Se pueden realizar observaciones similares incluso en el conjunto de datos de ImageNet (1,2 millones de imágenes). Esto se debe a que los transformers carecen de esos principios útiles en la convolución, como la localidad y la invariancia a la traslación. Sin embargo, el panorama cambia cuando se entrenan modelos más grandes en datasets más grandes (por ejemplo, 300 millones de imágenes), donde los transformers de visión superan a las ResNets por un amplio margen en la clasificación de imágenes, lo que demuestra la superioridad intrínseca de los transformers en escalabilidad. \n",
        "\n"
      ],
      "metadata": {
        "id": "mug-wyQBKT2-"
      },
      "id": "mug-wyQBKT2-"
    }
  ],
  "metadata": {
    "language_info": {
      "name": "python"
    },
    "colab": {
      "provenance": [],
      "collapsed_sections": []
    },
    "kernelspec": {
      "name": "python3",
      "display_name": "Python 3"
    },
    "accelerator": "GPU",
    "widgets": {
      "application/vnd.jupyter.widget-state+json": {
        "728979a7ef8144be957549e204c5dfbf": {
          "model_module": "@jupyter-widgets/controls",
          "model_name": "HBoxModel",
          "model_module_version": "1.5.0",
          "state": {
            "_dom_classes": [],
            "_model_module": "@jupyter-widgets/controls",
            "_model_module_version": "1.5.0",
            "_model_name": "HBoxModel",
            "_view_count": null,
            "_view_module": "@jupyter-widgets/controls",
            "_view_module_version": "1.5.0",
            "_view_name": "HBoxView",
            "box_style": "",
            "children": [
              "IPY_MODEL_2a69efd6b0a04e78a363c9525c8571ab",
              "IPY_MODEL_c6c0adcac6c04f7c9cbe31d54f7b5b40",
              "IPY_MODEL_f1165e1188034a4e8b1bc23689ef86c4"
            ],
            "layout": "IPY_MODEL_9cf28d6b9cab42148f93a3af812cca65"
          }
        },
        "2a69efd6b0a04e78a363c9525c8571ab": {
          "model_module": "@jupyter-widgets/controls",
          "model_name": "HTMLModel",
          "model_module_version": "1.5.0",
          "state": {
            "_dom_classes": [],
            "_model_module": "@jupyter-widgets/controls",
            "_model_module_version": "1.5.0",
            "_model_name": "HTMLModel",
            "_view_count": null,
            "_view_module": "@jupyter-widgets/controls",
            "_view_module_version": "1.5.0",
            "_view_name": "HTMLView",
            "description": "",
            "description_tooltip": null,
            "layout": "IPY_MODEL_2d76d2e2071b4b87b5b2b57805000d6b",
            "placeholder": "​",
            "style": "IPY_MODEL_c121205293b04ad480714a711479e051",
            "value": "100%"
          }
        },
        "c6c0adcac6c04f7c9cbe31d54f7b5b40": {
          "model_module": "@jupyter-widgets/controls",
          "model_name": "FloatProgressModel",
          "model_module_version": "1.5.0",
          "state": {
            "_dom_classes": [],
            "_model_module": "@jupyter-widgets/controls",
            "_model_module_version": "1.5.0",
            "_model_name": "FloatProgressModel",
            "_view_count": null,
            "_view_module": "@jupyter-widgets/controls",
            "_view_module_version": "1.5.0",
            "_view_name": "ProgressView",
            "bar_style": "success",
            "description": "",
            "description_tooltip": null,
            "layout": "IPY_MODEL_2d0071b244c94092aa6cca1c46fd5150",
            "max": 26421880,
            "min": 0,
            "orientation": "horizontal",
            "style": "IPY_MODEL_826b5209d8fd4fcb92f71f4a671dd4f2",
            "value": 26421880
          }
        },
        "f1165e1188034a4e8b1bc23689ef86c4": {
          "model_module": "@jupyter-widgets/controls",
          "model_name": "HTMLModel",
          "model_module_version": "1.5.0",
          "state": {
            "_dom_classes": [],
            "_model_module": "@jupyter-widgets/controls",
            "_model_module_version": "1.5.0",
            "_model_name": "HTMLModel",
            "_view_count": null,
            "_view_module": "@jupyter-widgets/controls",
            "_view_module_version": "1.5.0",
            "_view_name": "HTMLView",
            "description": "",
            "description_tooltip": null,
            "layout": "IPY_MODEL_bb83ef2487144b39aa96e79fe527436f",
            "placeholder": "​",
            "style": "IPY_MODEL_226b2879463f4c3db9509489531c3020",
            "value": " 26421880/26421880 [00:01&lt;00:00, 24992769.72it/s]"
          }
        },
        "9cf28d6b9cab42148f93a3af812cca65": {
          "model_module": "@jupyter-widgets/base",
          "model_name": "LayoutModel",
          "model_module_version": "1.2.0",
          "state": {
            "_model_module": "@jupyter-widgets/base",
            "_model_module_version": "1.2.0",
            "_model_name": "LayoutModel",
            "_view_count": null,
            "_view_module": "@jupyter-widgets/base",
            "_view_module_version": "1.2.0",
            "_view_name": "LayoutView",
            "align_content": null,
            "align_items": null,
            "align_self": null,
            "border": null,
            "bottom": null,
            "display": null,
            "flex": null,
            "flex_flow": null,
            "grid_area": null,
            "grid_auto_columns": null,
            "grid_auto_flow": null,
            "grid_auto_rows": null,
            "grid_column": null,
            "grid_gap": null,
            "grid_row": null,
            "grid_template_areas": null,
            "grid_template_columns": null,
            "grid_template_rows": null,
            "height": null,
            "justify_content": null,
            "justify_items": null,
            "left": null,
            "margin": null,
            "max_height": null,
            "max_width": null,
            "min_height": null,
            "min_width": null,
            "object_fit": null,
            "object_position": null,
            "order": null,
            "overflow": null,
            "overflow_x": null,
            "overflow_y": null,
            "padding": null,
            "right": null,
            "top": null,
            "visibility": null,
            "width": null
          }
        },
        "2d76d2e2071b4b87b5b2b57805000d6b": {
          "model_module": "@jupyter-widgets/base",
          "model_name": "LayoutModel",
          "model_module_version": "1.2.0",
          "state": {
            "_model_module": "@jupyter-widgets/base",
            "_model_module_version": "1.2.0",
            "_model_name": "LayoutModel",
            "_view_count": null,
            "_view_module": "@jupyter-widgets/base",
            "_view_module_version": "1.2.0",
            "_view_name": "LayoutView",
            "align_content": null,
            "align_items": null,
            "align_self": null,
            "border": null,
            "bottom": null,
            "display": null,
            "flex": null,
            "flex_flow": null,
            "grid_area": null,
            "grid_auto_columns": null,
            "grid_auto_flow": null,
            "grid_auto_rows": null,
            "grid_column": null,
            "grid_gap": null,
            "grid_row": null,
            "grid_template_areas": null,
            "grid_template_columns": null,
            "grid_template_rows": null,
            "height": null,
            "justify_content": null,
            "justify_items": null,
            "left": null,
            "margin": null,
            "max_height": null,
            "max_width": null,
            "min_height": null,
            "min_width": null,
            "object_fit": null,
            "object_position": null,
            "order": null,
            "overflow": null,
            "overflow_x": null,
            "overflow_y": null,
            "padding": null,
            "right": null,
            "top": null,
            "visibility": null,
            "width": null
          }
        },
        "c121205293b04ad480714a711479e051": {
          "model_module": "@jupyter-widgets/controls",
          "model_name": "DescriptionStyleModel",
          "model_module_version": "1.5.0",
          "state": {
            "_model_module": "@jupyter-widgets/controls",
            "_model_module_version": "1.5.0",
            "_model_name": "DescriptionStyleModel",
            "_view_count": null,
            "_view_module": "@jupyter-widgets/base",
            "_view_module_version": "1.2.0",
            "_view_name": "StyleView",
            "description_width": ""
          }
        },
        "2d0071b244c94092aa6cca1c46fd5150": {
          "model_module": "@jupyter-widgets/base",
          "model_name": "LayoutModel",
          "model_module_version": "1.2.0",
          "state": {
            "_model_module": "@jupyter-widgets/base",
            "_model_module_version": "1.2.0",
            "_model_name": "LayoutModel",
            "_view_count": null,
            "_view_module": "@jupyter-widgets/base",
            "_view_module_version": "1.2.0",
            "_view_name": "LayoutView",
            "align_content": null,
            "align_items": null,
            "align_self": null,
            "border": null,
            "bottom": null,
            "display": null,
            "flex": null,
            "flex_flow": null,
            "grid_area": null,
            "grid_auto_columns": null,
            "grid_auto_flow": null,
            "grid_auto_rows": null,
            "grid_column": null,
            "grid_gap": null,
            "grid_row": null,
            "grid_template_areas": null,
            "grid_template_columns": null,
            "grid_template_rows": null,
            "height": null,
            "justify_content": null,
            "justify_items": null,
            "left": null,
            "margin": null,
            "max_height": null,
            "max_width": null,
            "min_height": null,
            "min_width": null,
            "object_fit": null,
            "object_position": null,
            "order": null,
            "overflow": null,
            "overflow_x": null,
            "overflow_y": null,
            "padding": null,
            "right": null,
            "top": null,
            "visibility": null,
            "width": null
          }
        },
        "826b5209d8fd4fcb92f71f4a671dd4f2": {
          "model_module": "@jupyter-widgets/controls",
          "model_name": "ProgressStyleModel",
          "model_module_version": "1.5.0",
          "state": {
            "_model_module": "@jupyter-widgets/controls",
            "_model_module_version": "1.5.0",
            "_model_name": "ProgressStyleModel",
            "_view_count": null,
            "_view_module": "@jupyter-widgets/base",
            "_view_module_version": "1.2.0",
            "_view_name": "StyleView",
            "bar_color": null,
            "description_width": ""
          }
        },
        "bb83ef2487144b39aa96e79fe527436f": {
          "model_module": "@jupyter-widgets/base",
          "model_name": "LayoutModel",
          "model_module_version": "1.2.0",
          "state": {
            "_model_module": "@jupyter-widgets/base",
            "_model_module_version": "1.2.0",
            "_model_name": "LayoutModel",
            "_view_count": null,
            "_view_module": "@jupyter-widgets/base",
            "_view_module_version": "1.2.0",
            "_view_name": "LayoutView",
            "align_content": null,
            "align_items": null,
            "align_self": null,
            "border": null,
            "bottom": null,
            "display": null,
            "flex": null,
            "flex_flow": null,
            "grid_area": null,
            "grid_auto_columns": null,
            "grid_auto_flow": null,
            "grid_auto_rows": null,
            "grid_column": null,
            "grid_gap": null,
            "grid_row": null,
            "grid_template_areas": null,
            "grid_template_columns": null,
            "grid_template_rows": null,
            "height": null,
            "justify_content": null,
            "justify_items": null,
            "left": null,
            "margin": null,
            "max_height": null,
            "max_width": null,
            "min_height": null,
            "min_width": null,
            "object_fit": null,
            "object_position": null,
            "order": null,
            "overflow": null,
            "overflow_x": null,
            "overflow_y": null,
            "padding": null,
            "right": null,
            "top": null,
            "visibility": null,
            "width": null
          }
        },
        "226b2879463f4c3db9509489531c3020": {
          "model_module": "@jupyter-widgets/controls",
          "model_name": "DescriptionStyleModel",
          "model_module_version": "1.5.0",
          "state": {
            "_model_module": "@jupyter-widgets/controls",
            "_model_module_version": "1.5.0",
            "_model_name": "DescriptionStyleModel",
            "_view_count": null,
            "_view_module": "@jupyter-widgets/base",
            "_view_module_version": "1.2.0",
            "_view_name": "StyleView",
            "description_width": ""
          }
        },
        "b981b01a91f249a6bb4205d09300b3ee": {
          "model_module": "@jupyter-widgets/controls",
          "model_name": "HBoxModel",
          "model_module_version": "1.5.0",
          "state": {
            "_dom_classes": [],
            "_model_module": "@jupyter-widgets/controls",
            "_model_module_version": "1.5.0",
            "_model_name": "HBoxModel",
            "_view_count": null,
            "_view_module": "@jupyter-widgets/controls",
            "_view_module_version": "1.5.0",
            "_view_name": "HBoxView",
            "box_style": "",
            "children": [
              "IPY_MODEL_22da2e134d20421d91f1a0b3455e8a7f",
              "IPY_MODEL_28254e0d84af4cc7b29ff78e1e497c65",
              "IPY_MODEL_606e625b796347a493c38b7dd4163de8"
            ],
            "layout": "IPY_MODEL_779910a5715e4862ba715bbd2f51bb36"
          }
        },
        "22da2e134d20421d91f1a0b3455e8a7f": {
          "model_module": "@jupyter-widgets/controls",
          "model_name": "HTMLModel",
          "model_module_version": "1.5.0",
          "state": {
            "_dom_classes": [],
            "_model_module": "@jupyter-widgets/controls",
            "_model_module_version": "1.5.0",
            "_model_name": "HTMLModel",
            "_view_count": null,
            "_view_module": "@jupyter-widgets/controls",
            "_view_module_version": "1.5.0",
            "_view_name": "HTMLView",
            "description": "",
            "description_tooltip": null,
            "layout": "IPY_MODEL_78eea69809a5453b864491010ea364f0",
            "placeholder": "​",
            "style": "IPY_MODEL_eede117b16694e3da93b704e50dd504b",
            "value": "100%"
          }
        },
        "28254e0d84af4cc7b29ff78e1e497c65": {
          "model_module": "@jupyter-widgets/controls",
          "model_name": "FloatProgressModel",
          "model_module_version": "1.5.0",
          "state": {
            "_dom_classes": [],
            "_model_module": "@jupyter-widgets/controls",
            "_model_module_version": "1.5.0",
            "_model_name": "FloatProgressModel",
            "_view_count": null,
            "_view_module": "@jupyter-widgets/controls",
            "_view_module_version": "1.5.0",
            "_view_name": "ProgressView",
            "bar_style": "success",
            "description": "",
            "description_tooltip": null,
            "layout": "IPY_MODEL_09317068217643b0b08c1bf3a3391502",
            "max": 29515,
            "min": 0,
            "orientation": "horizontal",
            "style": "IPY_MODEL_664b60fea06646f48dce4216f744ffc5",
            "value": 29515
          }
        },
        "606e625b796347a493c38b7dd4163de8": {
          "model_module": "@jupyter-widgets/controls",
          "model_name": "HTMLModel",
          "model_module_version": "1.5.0",
          "state": {
            "_dom_classes": [],
            "_model_module": "@jupyter-widgets/controls",
            "_model_module_version": "1.5.0",
            "_model_name": "HTMLModel",
            "_view_count": null,
            "_view_module": "@jupyter-widgets/controls",
            "_view_module_version": "1.5.0",
            "_view_name": "HTMLView",
            "description": "",
            "description_tooltip": null,
            "layout": "IPY_MODEL_9e5d799848a342449f81d91b03cde83c",
            "placeholder": "​",
            "style": "IPY_MODEL_45ef8898c1104c0bac65f76054a7858d",
            "value": " 29515/29515 [00:00&lt;00:00, 268509.91it/s]"
          }
        },
        "779910a5715e4862ba715bbd2f51bb36": {
          "model_module": "@jupyter-widgets/base",
          "model_name": "LayoutModel",
          "model_module_version": "1.2.0",
          "state": {
            "_model_module": "@jupyter-widgets/base",
            "_model_module_version": "1.2.0",
            "_model_name": "LayoutModel",
            "_view_count": null,
            "_view_module": "@jupyter-widgets/base",
            "_view_module_version": "1.2.0",
            "_view_name": "LayoutView",
            "align_content": null,
            "align_items": null,
            "align_self": null,
            "border": null,
            "bottom": null,
            "display": null,
            "flex": null,
            "flex_flow": null,
            "grid_area": null,
            "grid_auto_columns": null,
            "grid_auto_flow": null,
            "grid_auto_rows": null,
            "grid_column": null,
            "grid_gap": null,
            "grid_row": null,
            "grid_template_areas": null,
            "grid_template_columns": null,
            "grid_template_rows": null,
            "height": null,
            "justify_content": null,
            "justify_items": null,
            "left": null,
            "margin": null,
            "max_height": null,
            "max_width": null,
            "min_height": null,
            "min_width": null,
            "object_fit": null,
            "object_position": null,
            "order": null,
            "overflow": null,
            "overflow_x": null,
            "overflow_y": null,
            "padding": null,
            "right": null,
            "top": null,
            "visibility": null,
            "width": null
          }
        },
        "78eea69809a5453b864491010ea364f0": {
          "model_module": "@jupyter-widgets/base",
          "model_name": "LayoutModel",
          "model_module_version": "1.2.0",
          "state": {
            "_model_module": "@jupyter-widgets/base",
            "_model_module_version": "1.2.0",
            "_model_name": "LayoutModel",
            "_view_count": null,
            "_view_module": "@jupyter-widgets/base",
            "_view_module_version": "1.2.0",
            "_view_name": "LayoutView",
            "align_content": null,
            "align_items": null,
            "align_self": null,
            "border": null,
            "bottom": null,
            "display": null,
            "flex": null,
            "flex_flow": null,
            "grid_area": null,
            "grid_auto_columns": null,
            "grid_auto_flow": null,
            "grid_auto_rows": null,
            "grid_column": null,
            "grid_gap": null,
            "grid_row": null,
            "grid_template_areas": null,
            "grid_template_columns": null,
            "grid_template_rows": null,
            "height": null,
            "justify_content": null,
            "justify_items": null,
            "left": null,
            "margin": null,
            "max_height": null,
            "max_width": null,
            "min_height": null,
            "min_width": null,
            "object_fit": null,
            "object_position": null,
            "order": null,
            "overflow": null,
            "overflow_x": null,
            "overflow_y": null,
            "padding": null,
            "right": null,
            "top": null,
            "visibility": null,
            "width": null
          }
        },
        "eede117b16694e3da93b704e50dd504b": {
          "model_module": "@jupyter-widgets/controls",
          "model_name": "DescriptionStyleModel",
          "model_module_version": "1.5.0",
          "state": {
            "_model_module": "@jupyter-widgets/controls",
            "_model_module_version": "1.5.0",
            "_model_name": "DescriptionStyleModel",
            "_view_count": null,
            "_view_module": "@jupyter-widgets/base",
            "_view_module_version": "1.2.0",
            "_view_name": "StyleView",
            "description_width": ""
          }
        },
        "09317068217643b0b08c1bf3a3391502": {
          "model_module": "@jupyter-widgets/base",
          "model_name": "LayoutModel",
          "model_module_version": "1.2.0",
          "state": {
            "_model_module": "@jupyter-widgets/base",
            "_model_module_version": "1.2.0",
            "_model_name": "LayoutModel",
            "_view_count": null,
            "_view_module": "@jupyter-widgets/base",
            "_view_module_version": "1.2.0",
            "_view_name": "LayoutView",
            "align_content": null,
            "align_items": null,
            "align_self": null,
            "border": null,
            "bottom": null,
            "display": null,
            "flex": null,
            "flex_flow": null,
            "grid_area": null,
            "grid_auto_columns": null,
            "grid_auto_flow": null,
            "grid_auto_rows": null,
            "grid_column": null,
            "grid_gap": null,
            "grid_row": null,
            "grid_template_areas": null,
            "grid_template_columns": null,
            "grid_template_rows": null,
            "height": null,
            "justify_content": null,
            "justify_items": null,
            "left": null,
            "margin": null,
            "max_height": null,
            "max_width": null,
            "min_height": null,
            "min_width": null,
            "object_fit": null,
            "object_position": null,
            "order": null,
            "overflow": null,
            "overflow_x": null,
            "overflow_y": null,
            "padding": null,
            "right": null,
            "top": null,
            "visibility": null,
            "width": null
          }
        },
        "664b60fea06646f48dce4216f744ffc5": {
          "model_module": "@jupyter-widgets/controls",
          "model_name": "ProgressStyleModel",
          "model_module_version": "1.5.0",
          "state": {
            "_model_module": "@jupyter-widgets/controls",
            "_model_module_version": "1.5.0",
            "_model_name": "ProgressStyleModel",
            "_view_count": null,
            "_view_module": "@jupyter-widgets/base",
            "_view_module_version": "1.2.0",
            "_view_name": "StyleView",
            "bar_color": null,
            "description_width": ""
          }
        },
        "9e5d799848a342449f81d91b03cde83c": {
          "model_module": "@jupyter-widgets/base",
          "model_name": "LayoutModel",
          "model_module_version": "1.2.0",
          "state": {
            "_model_module": "@jupyter-widgets/base",
            "_model_module_version": "1.2.0",
            "_model_name": "LayoutModel",
            "_view_count": null,
            "_view_module": "@jupyter-widgets/base",
            "_view_module_version": "1.2.0",
            "_view_name": "LayoutView",
            "align_content": null,
            "align_items": null,
            "align_self": null,
            "border": null,
            "bottom": null,
            "display": null,
            "flex": null,
            "flex_flow": null,
            "grid_area": null,
            "grid_auto_columns": null,
            "grid_auto_flow": null,
            "grid_auto_rows": null,
            "grid_column": null,
            "grid_gap": null,
            "grid_row": null,
            "grid_template_areas": null,
            "grid_template_columns": null,
            "grid_template_rows": null,
            "height": null,
            "justify_content": null,
            "justify_items": null,
            "left": null,
            "margin": null,
            "max_height": null,
            "max_width": null,
            "min_height": null,
            "min_width": null,
            "object_fit": null,
            "object_position": null,
            "order": null,
            "overflow": null,
            "overflow_x": null,
            "overflow_y": null,
            "padding": null,
            "right": null,
            "top": null,
            "visibility": null,
            "width": null
          }
        },
        "45ef8898c1104c0bac65f76054a7858d": {
          "model_module": "@jupyter-widgets/controls",
          "model_name": "DescriptionStyleModel",
          "model_module_version": "1.5.0",
          "state": {
            "_model_module": "@jupyter-widgets/controls",
            "_model_module_version": "1.5.0",
            "_model_name": "DescriptionStyleModel",
            "_view_count": null,
            "_view_module": "@jupyter-widgets/base",
            "_view_module_version": "1.2.0",
            "_view_name": "StyleView",
            "description_width": ""
          }
        },
        "2abd15870593423b81c7d24a4403ca79": {
          "model_module": "@jupyter-widgets/controls",
          "model_name": "HBoxModel",
          "model_module_version": "1.5.0",
          "state": {
            "_dom_classes": [],
            "_model_module": "@jupyter-widgets/controls",
            "_model_module_version": "1.5.0",
            "_model_name": "HBoxModel",
            "_view_count": null,
            "_view_module": "@jupyter-widgets/controls",
            "_view_module_version": "1.5.0",
            "_view_name": "HBoxView",
            "box_style": "",
            "children": [
              "IPY_MODEL_78f66bad550046f5aea9d3327abf57c0",
              "IPY_MODEL_72301f38a5e4499bb3fc61725d968076",
              "IPY_MODEL_c63e15e6b1cf40d29e72c65fb8d99fa8"
            ],
            "layout": "IPY_MODEL_dedd3e11ea194f8fa6b35de767326fda"
          }
        },
        "78f66bad550046f5aea9d3327abf57c0": {
          "model_module": "@jupyter-widgets/controls",
          "model_name": "HTMLModel",
          "model_module_version": "1.5.0",
          "state": {
            "_dom_classes": [],
            "_model_module": "@jupyter-widgets/controls",
            "_model_module_version": "1.5.0",
            "_model_name": "HTMLModel",
            "_view_count": null,
            "_view_module": "@jupyter-widgets/controls",
            "_view_module_version": "1.5.0",
            "_view_name": "HTMLView",
            "description": "",
            "description_tooltip": null,
            "layout": "IPY_MODEL_fec33fa2b529440bb07a2a65b12b8562",
            "placeholder": "​",
            "style": "IPY_MODEL_08432aef9e824fbb91f6eb065947f139",
            "value": "100%"
          }
        },
        "72301f38a5e4499bb3fc61725d968076": {
          "model_module": "@jupyter-widgets/controls",
          "model_name": "FloatProgressModel",
          "model_module_version": "1.5.0",
          "state": {
            "_dom_classes": [],
            "_model_module": "@jupyter-widgets/controls",
            "_model_module_version": "1.5.0",
            "_model_name": "FloatProgressModel",
            "_view_count": null,
            "_view_module": "@jupyter-widgets/controls",
            "_view_module_version": "1.5.0",
            "_view_name": "ProgressView",
            "bar_style": "success",
            "description": "",
            "description_tooltip": null,
            "layout": "IPY_MODEL_e61f117a215f40c089c0517d07f92c19",
            "max": 4422102,
            "min": 0,
            "orientation": "horizontal",
            "style": "IPY_MODEL_17638cdae3a34168a5ec0cd1fb8179bd",
            "value": 4422102
          }
        },
        "c63e15e6b1cf40d29e72c65fb8d99fa8": {
          "model_module": "@jupyter-widgets/controls",
          "model_name": "HTMLModel",
          "model_module_version": "1.5.0",
          "state": {
            "_dom_classes": [],
            "_model_module": "@jupyter-widgets/controls",
            "_model_module_version": "1.5.0",
            "_model_name": "HTMLModel",
            "_view_count": null,
            "_view_module": "@jupyter-widgets/controls",
            "_view_module_version": "1.5.0",
            "_view_name": "HTMLView",
            "description": "",
            "description_tooltip": null,
            "layout": "IPY_MODEL_ffe7e9fd89644201a8b7da96d945efec",
            "placeholder": "​",
            "style": "IPY_MODEL_678d9e5e9e87451ab25a17386c5369ba",
            "value": " 4422102/4422102 [00:00&lt;00:00, 8393624.08it/s]"
          }
        },
        "dedd3e11ea194f8fa6b35de767326fda": {
          "model_module": "@jupyter-widgets/base",
          "model_name": "LayoutModel",
          "model_module_version": "1.2.0",
          "state": {
            "_model_module": "@jupyter-widgets/base",
            "_model_module_version": "1.2.0",
            "_model_name": "LayoutModel",
            "_view_count": null,
            "_view_module": "@jupyter-widgets/base",
            "_view_module_version": "1.2.0",
            "_view_name": "LayoutView",
            "align_content": null,
            "align_items": null,
            "align_self": null,
            "border": null,
            "bottom": null,
            "display": null,
            "flex": null,
            "flex_flow": null,
            "grid_area": null,
            "grid_auto_columns": null,
            "grid_auto_flow": null,
            "grid_auto_rows": null,
            "grid_column": null,
            "grid_gap": null,
            "grid_row": null,
            "grid_template_areas": null,
            "grid_template_columns": null,
            "grid_template_rows": null,
            "height": null,
            "justify_content": null,
            "justify_items": null,
            "left": null,
            "margin": null,
            "max_height": null,
            "max_width": null,
            "min_height": null,
            "min_width": null,
            "object_fit": null,
            "object_position": null,
            "order": null,
            "overflow": null,
            "overflow_x": null,
            "overflow_y": null,
            "padding": null,
            "right": null,
            "top": null,
            "visibility": null,
            "width": null
          }
        },
        "fec33fa2b529440bb07a2a65b12b8562": {
          "model_module": "@jupyter-widgets/base",
          "model_name": "LayoutModel",
          "model_module_version": "1.2.0",
          "state": {
            "_model_module": "@jupyter-widgets/base",
            "_model_module_version": "1.2.0",
            "_model_name": "LayoutModel",
            "_view_count": null,
            "_view_module": "@jupyter-widgets/base",
            "_view_module_version": "1.2.0",
            "_view_name": "LayoutView",
            "align_content": null,
            "align_items": null,
            "align_self": null,
            "border": null,
            "bottom": null,
            "display": null,
            "flex": null,
            "flex_flow": null,
            "grid_area": null,
            "grid_auto_columns": null,
            "grid_auto_flow": null,
            "grid_auto_rows": null,
            "grid_column": null,
            "grid_gap": null,
            "grid_row": null,
            "grid_template_areas": null,
            "grid_template_columns": null,
            "grid_template_rows": null,
            "height": null,
            "justify_content": null,
            "justify_items": null,
            "left": null,
            "margin": null,
            "max_height": null,
            "max_width": null,
            "min_height": null,
            "min_width": null,
            "object_fit": null,
            "object_position": null,
            "order": null,
            "overflow": null,
            "overflow_x": null,
            "overflow_y": null,
            "padding": null,
            "right": null,
            "top": null,
            "visibility": null,
            "width": null
          }
        },
        "08432aef9e824fbb91f6eb065947f139": {
          "model_module": "@jupyter-widgets/controls",
          "model_name": "DescriptionStyleModel",
          "model_module_version": "1.5.0",
          "state": {
            "_model_module": "@jupyter-widgets/controls",
            "_model_module_version": "1.5.0",
            "_model_name": "DescriptionStyleModel",
            "_view_count": null,
            "_view_module": "@jupyter-widgets/base",
            "_view_module_version": "1.2.0",
            "_view_name": "StyleView",
            "description_width": ""
          }
        },
        "e61f117a215f40c089c0517d07f92c19": {
          "model_module": "@jupyter-widgets/base",
          "model_name": "LayoutModel",
          "model_module_version": "1.2.0",
          "state": {
            "_model_module": "@jupyter-widgets/base",
            "_model_module_version": "1.2.0",
            "_model_name": "LayoutModel",
            "_view_count": null,
            "_view_module": "@jupyter-widgets/base",
            "_view_module_version": "1.2.0",
            "_view_name": "LayoutView",
            "align_content": null,
            "align_items": null,
            "align_self": null,
            "border": null,
            "bottom": null,
            "display": null,
            "flex": null,
            "flex_flow": null,
            "grid_area": null,
            "grid_auto_columns": null,
            "grid_auto_flow": null,
            "grid_auto_rows": null,
            "grid_column": null,
            "grid_gap": null,
            "grid_row": null,
            "grid_template_areas": null,
            "grid_template_columns": null,
            "grid_template_rows": null,
            "height": null,
            "justify_content": null,
            "justify_items": null,
            "left": null,
            "margin": null,
            "max_height": null,
            "max_width": null,
            "min_height": null,
            "min_width": null,
            "object_fit": null,
            "object_position": null,
            "order": null,
            "overflow": null,
            "overflow_x": null,
            "overflow_y": null,
            "padding": null,
            "right": null,
            "top": null,
            "visibility": null,
            "width": null
          }
        },
        "17638cdae3a34168a5ec0cd1fb8179bd": {
          "model_module": "@jupyter-widgets/controls",
          "model_name": "ProgressStyleModel",
          "model_module_version": "1.5.0",
          "state": {
            "_model_module": "@jupyter-widgets/controls",
            "_model_module_version": "1.5.0",
            "_model_name": "ProgressStyleModel",
            "_view_count": null,
            "_view_module": "@jupyter-widgets/base",
            "_view_module_version": "1.2.0",
            "_view_name": "StyleView",
            "bar_color": null,
            "description_width": ""
          }
        },
        "ffe7e9fd89644201a8b7da96d945efec": {
          "model_module": "@jupyter-widgets/base",
          "model_name": "LayoutModel",
          "model_module_version": "1.2.0",
          "state": {
            "_model_module": "@jupyter-widgets/base",
            "_model_module_version": "1.2.0",
            "_model_name": "LayoutModel",
            "_view_count": null,
            "_view_module": "@jupyter-widgets/base",
            "_view_module_version": "1.2.0",
            "_view_name": "LayoutView",
            "align_content": null,
            "align_items": null,
            "align_self": null,
            "border": null,
            "bottom": null,
            "display": null,
            "flex": null,
            "flex_flow": null,
            "grid_area": null,
            "grid_auto_columns": null,
            "grid_auto_flow": null,
            "grid_auto_rows": null,
            "grid_column": null,
            "grid_gap": null,
            "grid_row": null,
            "grid_template_areas": null,
            "grid_template_columns": null,
            "grid_template_rows": null,
            "height": null,
            "justify_content": null,
            "justify_items": null,
            "left": null,
            "margin": null,
            "max_height": null,
            "max_width": null,
            "min_height": null,
            "min_width": null,
            "object_fit": null,
            "object_position": null,
            "order": null,
            "overflow": null,
            "overflow_x": null,
            "overflow_y": null,
            "padding": null,
            "right": null,
            "top": null,
            "visibility": null,
            "width": null
          }
        },
        "678d9e5e9e87451ab25a17386c5369ba": {
          "model_module": "@jupyter-widgets/controls",
          "model_name": "DescriptionStyleModel",
          "model_module_version": "1.5.0",
          "state": {
            "_model_module": "@jupyter-widgets/controls",
            "_model_module_version": "1.5.0",
            "_model_name": "DescriptionStyleModel",
            "_view_count": null,
            "_view_module": "@jupyter-widgets/base",
            "_view_module_version": "1.2.0",
            "_view_name": "StyleView",
            "description_width": ""
          }
        },
        "38138f9049384fecafa4bde588294806": {
          "model_module": "@jupyter-widgets/controls",
          "model_name": "HBoxModel",
          "model_module_version": "1.5.0",
          "state": {
            "_dom_classes": [],
            "_model_module": "@jupyter-widgets/controls",
            "_model_module_version": "1.5.0",
            "_model_name": "HBoxModel",
            "_view_count": null,
            "_view_module": "@jupyter-widgets/controls",
            "_view_module_version": "1.5.0",
            "_view_name": "HBoxView",
            "box_style": "",
            "children": [
              "IPY_MODEL_64d5ac3cf4974dd69805c5633362239f",
              "IPY_MODEL_4237d33f6e40451e865f4facdbc15fd8",
              "IPY_MODEL_de911742b82e42a09b38d396587c4f22"
            ],
            "layout": "IPY_MODEL_17eff77f655045f6b3c834ffc8b0a08e"
          }
        },
        "64d5ac3cf4974dd69805c5633362239f": {
          "model_module": "@jupyter-widgets/controls",
          "model_name": "HTMLModel",
          "model_module_version": "1.5.0",
          "state": {
            "_dom_classes": [],
            "_model_module": "@jupyter-widgets/controls",
            "_model_module_version": "1.5.0",
            "_model_name": "HTMLModel",
            "_view_count": null,
            "_view_module": "@jupyter-widgets/controls",
            "_view_module_version": "1.5.0",
            "_view_name": "HTMLView",
            "description": "",
            "description_tooltip": null,
            "layout": "IPY_MODEL_027477198f3a4e4b99d68a2e4fe39b60",
            "placeholder": "​",
            "style": "IPY_MODEL_b6382f3abf5343c8b7e7dc1c62233cc6",
            "value": "100%"
          }
        },
        "4237d33f6e40451e865f4facdbc15fd8": {
          "model_module": "@jupyter-widgets/controls",
          "model_name": "FloatProgressModel",
          "model_module_version": "1.5.0",
          "state": {
            "_dom_classes": [],
            "_model_module": "@jupyter-widgets/controls",
            "_model_module_version": "1.5.0",
            "_model_name": "FloatProgressModel",
            "_view_count": null,
            "_view_module": "@jupyter-widgets/controls",
            "_view_module_version": "1.5.0",
            "_view_name": "ProgressView",
            "bar_style": "success",
            "description": "",
            "description_tooltip": null,
            "layout": "IPY_MODEL_838f3fce8f034d9cb00012d35ce2ae48",
            "max": 5148,
            "min": 0,
            "orientation": "horizontal",
            "style": "IPY_MODEL_58eed047c44a4ccc8c61bbec0253e7e1",
            "value": 5148
          }
        },
        "de911742b82e42a09b38d396587c4f22": {
          "model_module": "@jupyter-widgets/controls",
          "model_name": "HTMLModel",
          "model_module_version": "1.5.0",
          "state": {
            "_dom_classes": [],
            "_model_module": "@jupyter-widgets/controls",
            "_model_module_version": "1.5.0",
            "_model_name": "HTMLModel",
            "_view_count": null,
            "_view_module": "@jupyter-widgets/controls",
            "_view_module_version": "1.5.0",
            "_view_name": "HTMLView",
            "description": "",
            "description_tooltip": null,
            "layout": "IPY_MODEL_f72d2a4bbb5042d3a862aca583045e42",
            "placeholder": "​",
            "style": "IPY_MODEL_fff8402e8d4444eb948b06a8526ace5c",
            "value": " 5148/5148 [00:00&lt;00:00, 180126.28it/s]"
          }
        },
        "17eff77f655045f6b3c834ffc8b0a08e": {
          "model_module": "@jupyter-widgets/base",
          "model_name": "LayoutModel",
          "model_module_version": "1.2.0",
          "state": {
            "_model_module": "@jupyter-widgets/base",
            "_model_module_version": "1.2.0",
            "_model_name": "LayoutModel",
            "_view_count": null,
            "_view_module": "@jupyter-widgets/base",
            "_view_module_version": "1.2.0",
            "_view_name": "LayoutView",
            "align_content": null,
            "align_items": null,
            "align_self": null,
            "border": null,
            "bottom": null,
            "display": null,
            "flex": null,
            "flex_flow": null,
            "grid_area": null,
            "grid_auto_columns": null,
            "grid_auto_flow": null,
            "grid_auto_rows": null,
            "grid_column": null,
            "grid_gap": null,
            "grid_row": null,
            "grid_template_areas": null,
            "grid_template_columns": null,
            "grid_template_rows": null,
            "height": null,
            "justify_content": null,
            "justify_items": null,
            "left": null,
            "margin": null,
            "max_height": null,
            "max_width": null,
            "min_height": null,
            "min_width": null,
            "object_fit": null,
            "object_position": null,
            "order": null,
            "overflow": null,
            "overflow_x": null,
            "overflow_y": null,
            "padding": null,
            "right": null,
            "top": null,
            "visibility": null,
            "width": null
          }
        },
        "027477198f3a4e4b99d68a2e4fe39b60": {
          "model_module": "@jupyter-widgets/base",
          "model_name": "LayoutModel",
          "model_module_version": "1.2.0",
          "state": {
            "_model_module": "@jupyter-widgets/base",
            "_model_module_version": "1.2.0",
            "_model_name": "LayoutModel",
            "_view_count": null,
            "_view_module": "@jupyter-widgets/base",
            "_view_module_version": "1.2.0",
            "_view_name": "LayoutView",
            "align_content": null,
            "align_items": null,
            "align_self": null,
            "border": null,
            "bottom": null,
            "display": null,
            "flex": null,
            "flex_flow": null,
            "grid_area": null,
            "grid_auto_columns": null,
            "grid_auto_flow": null,
            "grid_auto_rows": null,
            "grid_column": null,
            "grid_gap": null,
            "grid_row": null,
            "grid_template_areas": null,
            "grid_template_columns": null,
            "grid_template_rows": null,
            "height": null,
            "justify_content": null,
            "justify_items": null,
            "left": null,
            "margin": null,
            "max_height": null,
            "max_width": null,
            "min_height": null,
            "min_width": null,
            "object_fit": null,
            "object_position": null,
            "order": null,
            "overflow": null,
            "overflow_x": null,
            "overflow_y": null,
            "padding": null,
            "right": null,
            "top": null,
            "visibility": null,
            "width": null
          }
        },
        "b6382f3abf5343c8b7e7dc1c62233cc6": {
          "model_module": "@jupyter-widgets/controls",
          "model_name": "DescriptionStyleModel",
          "model_module_version": "1.5.0",
          "state": {
            "_model_module": "@jupyter-widgets/controls",
            "_model_module_version": "1.5.0",
            "_model_name": "DescriptionStyleModel",
            "_view_count": null,
            "_view_module": "@jupyter-widgets/base",
            "_view_module_version": "1.2.0",
            "_view_name": "StyleView",
            "description_width": ""
          }
        },
        "838f3fce8f034d9cb00012d35ce2ae48": {
          "model_module": "@jupyter-widgets/base",
          "model_name": "LayoutModel",
          "model_module_version": "1.2.0",
          "state": {
            "_model_module": "@jupyter-widgets/base",
            "_model_module_version": "1.2.0",
            "_model_name": "LayoutModel",
            "_view_count": null,
            "_view_module": "@jupyter-widgets/base",
            "_view_module_version": "1.2.0",
            "_view_name": "LayoutView",
            "align_content": null,
            "align_items": null,
            "align_self": null,
            "border": null,
            "bottom": null,
            "display": null,
            "flex": null,
            "flex_flow": null,
            "grid_area": null,
            "grid_auto_columns": null,
            "grid_auto_flow": null,
            "grid_auto_rows": null,
            "grid_column": null,
            "grid_gap": null,
            "grid_row": null,
            "grid_template_areas": null,
            "grid_template_columns": null,
            "grid_template_rows": null,
            "height": null,
            "justify_content": null,
            "justify_items": null,
            "left": null,
            "margin": null,
            "max_height": null,
            "max_width": null,
            "min_height": null,
            "min_width": null,
            "object_fit": null,
            "object_position": null,
            "order": null,
            "overflow": null,
            "overflow_x": null,
            "overflow_y": null,
            "padding": null,
            "right": null,
            "top": null,
            "visibility": null,
            "width": null
          }
        },
        "58eed047c44a4ccc8c61bbec0253e7e1": {
          "model_module": "@jupyter-widgets/controls",
          "model_name": "ProgressStyleModel",
          "model_module_version": "1.5.0",
          "state": {
            "_model_module": "@jupyter-widgets/controls",
            "_model_module_version": "1.5.0",
            "_model_name": "ProgressStyleModel",
            "_view_count": null,
            "_view_module": "@jupyter-widgets/base",
            "_view_module_version": "1.2.0",
            "_view_name": "StyleView",
            "bar_color": null,
            "description_width": ""
          }
        },
        "f72d2a4bbb5042d3a862aca583045e42": {
          "model_module": "@jupyter-widgets/base",
          "model_name": "LayoutModel",
          "model_module_version": "1.2.0",
          "state": {
            "_model_module": "@jupyter-widgets/base",
            "_model_module_version": "1.2.0",
            "_model_name": "LayoutModel",
            "_view_count": null,
            "_view_module": "@jupyter-widgets/base",
            "_view_module_version": "1.2.0",
            "_view_name": "LayoutView",
            "align_content": null,
            "align_items": null,
            "align_self": null,
            "border": null,
            "bottom": null,
            "display": null,
            "flex": null,
            "flex_flow": null,
            "grid_area": null,
            "grid_auto_columns": null,
            "grid_auto_flow": null,
            "grid_auto_rows": null,
            "grid_column": null,
            "grid_gap": null,
            "grid_row": null,
            "grid_template_areas": null,
            "grid_template_columns": null,
            "grid_template_rows": null,
            "height": null,
            "justify_content": null,
            "justify_items": null,
            "left": null,
            "margin": null,
            "max_height": null,
            "max_width": null,
            "min_height": null,
            "min_width": null,
            "object_fit": null,
            "object_position": null,
            "order": null,
            "overflow": null,
            "overflow_x": null,
            "overflow_y": null,
            "padding": null,
            "right": null,
            "top": null,
            "visibility": null,
            "width": null
          }
        },
        "fff8402e8d4444eb948b06a8526ace5c": {
          "model_module": "@jupyter-widgets/controls",
          "model_name": "DescriptionStyleModel",
          "model_module_version": "1.5.0",
          "state": {
            "_model_module": "@jupyter-widgets/controls",
            "_model_module_version": "1.5.0",
            "_model_name": "DescriptionStyleModel",
            "_view_count": null,
            "_view_module": "@jupyter-widgets/base",
            "_view_module_version": "1.2.0",
            "_view_name": "StyleView",
            "description_width": ""
          }
        }
      }
    }
  },
  "nbformat": 4,
  "nbformat_minor": 5
}