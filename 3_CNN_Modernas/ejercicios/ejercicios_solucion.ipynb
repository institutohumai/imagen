{
  "cells": [
    {
      "cell_type": "markdown",
      "source": [
        "<a href=\"https://colab.research.google.com/github/institutohumai/cursos-python/blob/master/CV/3_CNN_Modernas/ejercicios/ejercicios_solucion.ipynb\"> <img src='https://colab.research.google.com/assets/colab-badge.svg' /> </a>"
      ],
      "metadata": {
        "id": "tLsO6fh3V9Vl"
      }
    },
    {
      "cell_type": "code",
      "execution_count": null,
      "metadata": {
        "id": "uUJM3uZEPVhQ"
      },
      "outputs": [],
      "source": [
        "%matplotlib inline"
      ]
    },
    {
      "cell_type": "markdown",
      "source": [
        "# Ejercicios Clase 3"
      ],
      "metadata": {
        "id": "nHaT-iEYWFBv"
      }
    },
    {
      "cell_type": "markdown",
      "metadata": {
        "id": "1z4f0Td_PVhR"
      },
      "source": [
        "\n",
        "# Introducción: Entrenando un clasificador de imágenes\n",
        "\n",
        "Realizaremos los siguientes pasos en orden:\n",
        "\n",
        "1. Cargar y normalizar los conjuntos de datos de entrenamiento y prueba de CIFAR10 usando ``torchvision``\n",
        "2. Definir una red neuronal convolucional\n",
        "3. Definir una función de pérdida\n",
        "4. Entrenar a la red en los datos de entrenamiento\n",
        "5. Probar la red con los datos de prueba\n"
      ]
    },
    {
      "cell_type": "markdown",
      "source": [
        "### 1. Cargar y normalizar CIFAR10\n",
        "\n",
        "Usando ``torchvision``, es extremadamente fácil cargar CIFAR10.\n"
      ],
      "metadata": {
        "id": "xSGiW31TPxuZ"
      }
    },
    {
      "cell_type": "code",
      "execution_count": null,
      "metadata": {
        "id": "GfGEyG4wPVhT"
      },
      "outputs": [],
      "source": [
        "import torch\n",
        "import torchvision\n",
        "import torchvision.transforms as transforms"
      ]
    },
    {
      "cell_type": "markdown",
      "metadata": {
        "id": "dSpGj8U4PVhT"
      },
      "source": [
        "La salida de los conjuntos de datos de torchvision son imágenes PILImage de rango [0, 1].\n",
        "Los transformamos a Tensores de rango normalizado [-1, 1].\n",
        "\n"
      ]
    },
    {
      "cell_type": "code",
      "execution_count": null,
      "metadata": {
        "id": "UuGTopJSPVhV",
        "colab": {
          "base_uri": "https://localhost:8080/",
          "height": 102,
          "referenced_widgets": [
            "d2f0935da03e4736840f2a8af1754e96",
            "844cbabcd0ac42a0be747208d0e6ee84",
            "70dae4156b27414689e21e94662d9f13",
            "aa611c147c2d43f1bd86da3e7589bc07",
            "21dca4022be3410db38848b12084bf1d",
            "409703233c5c4e5d9d9e72f2cf8a7125",
            "ec418646ca4b4d3ea57c038a1dd5a826",
            "210008047cee4d5f98a418913e74ec04",
            "2b4892eadbdd4a9e804311d19c4826f2",
            "a427117d5bb541f5b5d6a64ca485ad9b",
            "59b0ddc22469465c89e0e65750a33d62"
          ]
        },
        "outputId": "1d4a7234-8c21-4dfe-f4eb-e1c53259c046"
      },
      "outputs": [
        {
          "output_type": "stream",
          "name": "stdout",
          "text": [
            "Downloading https://www.cs.toronto.edu/~kriz/cifar-10-python.tar.gz to ./data/cifar-10-python.tar.gz\n"
          ]
        },
        {
          "output_type": "display_data",
          "data": {
            "text/plain": [
              "  0%|          | 0/170498071 [00:00<?, ?it/s]"
            ],
            "application/vnd.jupyter.widget-view+json": {
              "version_major": 2,
              "version_minor": 0,
              "model_id": "d2f0935da03e4736840f2a8af1754e96"
            }
          },
          "metadata": {}
        },
        {
          "output_type": "stream",
          "name": "stdout",
          "text": [
            "Extracting ./data/cifar-10-python.tar.gz to ./data\n",
            "Files already downloaded and verified\n"
          ]
        }
      ],
      "source": [
        "transform = transforms.Compose(\n",
        "    [transforms.ToTensor(),\n",
        "     transforms.Normalize((0.5, 0.5, 0.5), (0.5, 0.5, 0.5))])\n",
        "\n",
        "batch_size = 16\n",
        "\n",
        "trainset = torchvision.datasets.CIFAR10(root='./data', train=True,\n",
        "                                        download=True, transform=transform)\n",
        "trainloader = torch.utils.data.DataLoader(trainset, batch_size=batch_size,\n",
        "                                          shuffle=True, num_workers=2)\n",
        "\n",
        "testset = torchvision.datasets.CIFAR10(root='./data', train=False,\n",
        "                                       download=True, transform=transform)\n",
        "testloader = torch.utils.data.DataLoader(testset, batch_size=batch_size,\n",
        "                                         shuffle=False, num_workers=2)\n",
        "\n",
        "classes = ('plane', 'car', 'bird', 'cat',\n",
        "           'deer', 'dog', 'frog', 'horse', 'ship', 'truck')"
      ]
    },
    {
      "cell_type": "markdown",
      "metadata": {
        "id": "R5vh-KL9PVhW"
      },
      "source": [
        "Vamos a mostrar algunas de las imágenes de entrenamiento, por diversión.\n",
        "\n"
      ]
    },
    {
      "cell_type": "code",
      "execution_count": null,
      "metadata": {
        "id": "wwocvFNNPVhX",
        "colab": {
          "base_uri": "https://localhost:8080/",
          "height": 155
        },
        "outputId": "4d4a0446-1ffe-428b-98e3-8f380f6054ac"
      },
      "outputs": [
        {
          "output_type": "display_data",
          "data": {
            "text/plain": [
              "<Figure size 432x288 with 1 Axes>"
            ],
            "image/png": "[encoded data removed]"
          },
          "metadata": {
            "needs_background": "light"
          }
        },
        {
          "output_type": "stream",
          "name": "stdout",
          "text": [
            "bird  dog   truck car   plane cat   cat   ship  horse dog   horse cat   cat   deer  plane car  \n"
          ]
        }
      ],
      "source": [
        "import matplotlib.pyplot as plt\n",
        "import numpy as np\n",
        "\n",
        "def imshow(img):\n",
        "    img = img / 2 + 0.5     # unnormalize\n",
        "    npimg = img.numpy()\n",
        "    plt.imshow(np.transpose(npimg, (1, 2, 0)))\n",
        "    plt.show()\n",
        "\n",
        "\n",
        "dataiter = iter(trainloader)\n",
        "images, labels = next(dataiter)\n",
        "imshow(torchvision.utils.make_grid(images))\n",
        "print(' '.join(f'{classes[labels[j]]:5s}' for j in range(batch_size)))"
      ]
    },
    {
      "cell_type": "markdown",
      "metadata": {
        "id": "w2aSVXr7PVhX"
      },
      "source": [
        "### 2. Definir una red neuronal convolucional\n",
        "\n",
        "Definimos una red genérica basándonos en los conceptos de la clase 2.\n"
      ]
    },
    {
      "cell_type": "code",
      "execution_count": null,
      "metadata": {
        "id": "5rmtZO_zPVhX"
      },
      "outputs": [],
      "source": [
        "import torch.nn as nn\n",
        "import torch.nn.functional as F\n",
        "\n",
        "\n",
        "class Net(nn.Module):\n",
        "    def __init__(self):\n",
        "        super().__init__()\n",
        "        self.conv1 = nn.Conv2d(3, 6, 5)\n",
        "        self.pool = nn.MaxPool2d(2, 2)\n",
        "        self.conv2 = nn.Conv2d(6, 16, 5)\n",
        "        self.fc1 = nn.Linear(16 * 5 * 5, 120)\n",
        "        self.fc2 = nn.Linear(120, 84)\n",
        "        self.fc3 = nn.Linear(84, 10)\n",
        "\n",
        "    def forward(self, x):\n",
        "        x = self.pool(F.relu(self.conv1(x)))\n",
        "        x = self.pool(F.relu(self.conv2(x)))\n",
        "        x = torch.flatten(x, 1) # flatten all dimensions except batch\n",
        "        x = F.relu(self.fc1(x))\n",
        "        x = F.relu(self.fc2(x))\n",
        "        x = self.fc3(x)\n",
        "        return x\n",
        "\n",
        "device = torch.device('cuda:0' if torch.cuda.is_available() else 'cpu')\n",
        "net = Net().to(device)"
      ]
    },
    {
      "cell_type": "markdown",
      "metadata": {
        "id": "Zft24Oz1PVhY"
      },
      "source": [
        "### 3. Definir una función de pérdida y un optimizador\n",
        "Usemos una pérdida de entropía cruzada de clasificación y SGD con momentum.\n",
        "\n"
      ]
    },
    {
      "cell_type": "code",
      "execution_count": null,
      "metadata": {
        "id": "BNSLGol8PVhY"
      },
      "outputs": [],
      "source": [
        "import torch.optim as optim\n",
        "\n",
        "criterion = nn.CrossEntropyLoss()\n",
        "optimizer = optim.SGD(net.parameters(), lr=0.001, momentum=0.9)"
      ]
    },
    {
      "cell_type": "markdown",
      "metadata": {
        "id": "021mQtzePVhY"
      },
      "source": [
        "### 4. Entrenar la red\n",
        "\n",
        "Esto es cuando las cosas comienzan a ponerse interesantes.\n",
        "Simplemente tenemos que recorrer nuestro iterador de datos y alimentar las entradas a la red y optimizar.\n"
      ]
    },
    {
      "cell_type": "code",
      "execution_count": null,
      "metadata": {
        "id": "RDtdruaLPVhZ",
        "colab": {
          "base_uri": "https://localhost:8080/"
        },
        "outputId": "4278f8e8-f07c-4f9d-a0fc-63080fc2d671"
      },
      "outputs": [
        {
          "output_type": "stream",
          "name": "stdout",
          "text": [
            "epoch: 1 loss: 0.127\n",
            "epoch: 2 loss: 0.099\n",
            "epoch: 3 loss: 0.088\n",
            "epoch: 4 loss: 0.080\n",
            "epoch: 5 loss: 0.075\n",
            "epoch: 6 loss: 0.071\n",
            "epoch: 7 loss: 0.067\n",
            "epoch: 8 loss: 0.064\n",
            "epoch: 9 loss: 0.061\n",
            "epoch: 10 loss: 0.059\n",
            "Finished Training\n"
          ]
        }
      ],
      "source": [
        "for epoch in range(10):  # loop over the dataset multiple times\n",
        "\n",
        "    running_loss = 0.0\n",
        "    num_el = 0\n",
        "    for i, data in enumerate(trainloader, 0):\n",
        "        # get the inputs; data is a list of [inputs, labels]\n",
        "        inputs, labels = data[0].to(device),data[1].to(device)\n",
        "\n",
        "        # zero the parameter gradients\n",
        "        optimizer.zero_grad()\n",
        "\n",
        "        # forward + backward + optimize\n",
        "        outputs = net(inputs)\n",
        "        loss = criterion(outputs, labels)\n",
        "        loss.backward()\n",
        "        optimizer.step()\n",
        "\n",
        "        # print statistics\n",
        "        running_loss += loss.item()\n",
        "        num_el += len(inputs)\n",
        "\n",
        "    print(f'epoch: {epoch + 1} loss: {running_loss / num_el:.3f}')\n",
        "    running_loss = 0.0\n",
        "\n",
        "print('Finished Training')"
      ]
    },
    {
      "cell_type": "markdown",
      "metadata": {
        "id": "W5tx6uyUPVhZ"
      },
      "source": [
        "Guardemos rápidamente nuestro modelo entrenado:\n"
      ]
    },
    {
      "cell_type": "code",
      "execution_count": null,
      "metadata": {
        "id": "bBUli9A_PVhZ"
      },
      "outputs": [],
      "source": [
        "PATH = './cifar_net.pth'\n",
        "torch.save(net.state_dict(), PATH)"
      ]
    },
    {
      "cell_type": "markdown",
      "metadata": {
        "id": "1T1pDdHePVha"
      },
      "source": [
        "\n",
        "### 5. Probar la red con los datos de prueba\n",
        "\n",
        "Hemos entrenado la red para 10 pases sobre el conjunto de datos de entrenamiento.\n",
        "Pero necesitamos verificar si la red ha aprendido algo.\n",
        "\n",
        "Verificaremos esto prediciendo la etiqueta de clase que la red neuronal produce como salida, y comparando con la etiqueta real. Si la predicción es\n",
        "correcta, agregamos la muestra a la lista de predicciones correctas.\n",
        "\n",
        "Bien, primer paso. Mostremos una imagen del conjunto de prueba para familiarizarnos.\n",
        "\n"
      ]
    },
    {
      "cell_type": "code",
      "execution_count": null,
      "metadata": {
        "id": "vu7Xi4FnPVha",
        "colab": {
          "base_uri": "https://localhost:8080/",
          "height": 155
        },
        "outputId": "7c35b7a7-1992-48f9-fcd1-ac9f242a5e06"
      },
      "outputs": [
        {
          "output_type": "display_data",
          "data": {
            "text/plain": [
              "<Figure size 432x288 with 1 Axes>"
            ],
            "image/png": "[encoded data removed]"
          },
          "metadata": {
            "needs_background": "light"
          }
        },
        {
          "output_type": "stream",
          "name": "stdout",
          "text": [
            "GroundTruth:  cat   ship  ship  plane frog  frog  car   frog  cat   car   plane truck dog   horse truck ship \n"
          ]
        }
      ],
      "source": [
        "dataiter = iter(testloader)\n",
        "images, labels = next(dataiter)\n",
        "\n",
        "# print images\n",
        "imshow(torchvision.utils.make_grid(images))\n",
        "print('GroundTruth: ', ' '.join(f'{classes[labels[j]]:5s}' for j in range(len(images))))"
      ]
    },
    {
      "cell_type": "markdown",
      "metadata": {
        "id": "dTKDrV80PVha"
      },
      "source": [
        "\n",
        "A continuación, volvamos a cargar en nuestro modelo guardado (nota: guardar y volver a cargar el modelo no era necesario aquí, solo lo hicimos para ilustrar cómo hacerlo):\n"
      ]
    },
    {
      "cell_type": "code",
      "execution_count": null,
      "metadata": {
        "id": "88OgB7oJPVha",
        "colab": {
          "base_uri": "https://localhost:8080/"
        },
        "outputId": "865a4948-b3ea-4840-c2a6-826d3b0ee2ad"
      },
      "outputs": [
        {
          "output_type": "execute_result",
          "data": {
            "text/plain": [
              "<All keys matched successfully>"
            ]
          },
          "metadata": {},
          "execution_count": 14
        }
      ],
      "source": [
        "net = Net().to(device)\n",
        "net.load_state_dict(torch.load(PATH))"
      ]
    },
    {
      "cell_type": "markdown",
      "metadata": {
        "id": "sMTQUpSoPVha"
      },
      "source": [
        "Bien, ahora veamos qué piensa la red neuronal que son los ejemplos anteriores:"
      ]
    },
    {
      "cell_type": "code",
      "execution_count": null,
      "metadata": {
        "id": "lbnCuFXQPVhb"
      },
      "outputs": [],
      "source": [
        "outputs = net(images.to(device))"
      ]
    },
    {
      "cell_type": "markdown",
      "metadata": {
        "id": "w3J4GgacPVhb"
      },
      "source": [
        "Las salidas son probabilidades para las 10 clases.\n",
        "Cuanto mayor sea la probabilidad de una clase, más pensará la red que la imagen es de esa clase en particular. Entonces, obtengamos el índice de la probabilidad más alta:\n",
        "\n"
      ]
    },
    {
      "cell_type": "code",
      "execution_count": null,
      "metadata": {
        "id": "Lbnn7HF_PVhc",
        "colab": {
          "base_uri": "https://localhost:8080/"
        },
        "outputId": "e9ea1235-9be6-45c6-9529-8b2d0a5206de"
      },
      "outputs": [
        {
          "output_type": "stream",
          "name": "stdout",
          "text": [
            "Predicted:  cat   ship  ship  plane deer  frog  car   frog  cat   car   plane truck frog  horse truck frog \n"
          ]
        }
      ],
      "source": [
        "_, predicted = torch.max(outputs, 1)\n",
        "\n",
        "print('Predicted: ', ' '.join(f'{classes[predicted[j]]:5s}'\n",
        "                              for j in range(len(images))))"
      ]
    },
    {
      "cell_type": "markdown",
      "metadata": {
        "id": "iGTodMo-PVhc"
      },
      "source": [
        "Los resultados parecen bastante buenos.\n",
        "\n",
        "Veamos cómo funciona la red en todo el conjunto de prueba.\n",
        "\n"
      ]
    },
    {
      "cell_type": "code",
      "execution_count": null,
      "metadata": {
        "id": "NOzTr5NRPVhc",
        "colab": {
          "base_uri": "https://localhost:8080/"
        },
        "outputId": "eb78e661-814c-46fc-993b-60a219683c2d"
      },
      "outputs": [
        {
          "output_type": "stream",
          "name": "stdout",
          "text": [
            "Accuracy of the network on the 10000 test images: 63 %\n"
          ]
        }
      ],
      "source": [
        "correct = 0\n",
        "total = 0\n",
        "# since we're not training, we don't need to calculate the gradients for our outputs\n",
        "with torch.no_grad():\n",
        "    for data in testloader:\n",
        "        images, labels = data[0].to(device),data[1].to(device)\n",
        "        # calculate outputs by running images through the network\n",
        "        outputs = net(images)\n",
        "        # the class with the highest energy is what we choose as prediction\n",
        "        _, predicted = torch.max(outputs.data, 1)\n",
        "        total += labels.size(0)\n",
        "        correct += (predicted == labels).sum().item()\n",
        "\n",
        "print(f'Accuracy of the network on the 10000 test images: {100 * correct // total} %')"
      ]
    },
    {
      "cell_type": "markdown",
      "metadata": {
        "id": "cuFl0FaAPVhd"
      },
      "source": [
        "Eso se ve mucho mejor que el azar, que es un 10% de precisión (elegir una clase al azar entre 10 clases). Parece que la red aprendió algo.\n",
        "\n",
        "Hmmm, ¿cuáles son las clases que funcionaron bien y las clases que no funcionaron bien?\n"
      ]
    },
    {
      "cell_type": "code",
      "execution_count": null,
      "metadata": {
        "id": "fNaGDd0BPVhd",
        "colab": {
          "base_uri": "https://localhost:8080/"
        },
        "outputId": "fac43708-a214-4838-8781-198410cfb725"
      },
      "outputs": [
        {
          "output_type": "stream",
          "name": "stdout",
          "text": [
            "Accuracy for class: plane is 69.2 %\n",
            "Accuracy for class: car   is 78.8 %\n",
            "Accuracy for class: bird  is 40.0 %\n",
            "Accuracy for class: cat   is 44.0 %\n",
            "Accuracy for class: deer  is 60.5 %\n",
            "Accuracy for class: dog   is 47.2 %\n",
            "Accuracy for class: frog  is 74.7 %\n",
            "Accuracy for class: horse is 63.3 %\n",
            "Accuracy for class: ship  is 80.1 %\n",
            "Accuracy for class: truck is 72.2 %\n"
          ]
        }
      ],
      "source": [
        "# prepare to count predictions for each class\n",
        "correct_pred = {classname: 0 for classname in classes}\n",
        "total_pred = {classname: 0 for classname in classes}\n",
        "\n",
        "# again no gradients needed\n",
        "with torch.no_grad():\n",
        "    for data in testloader:\n",
        "        images, labels = data[0].to(device),data[1].to(device)\n",
        "        outputs = net(images)\n",
        "        _, predictions = torch.max(outputs, 1)\n",
        "        # collect the correct predictions for each class\n",
        "        for label, prediction in zip(labels, predictions):\n",
        "            if label == prediction:\n",
        "                correct_pred[classes[label]] += 1\n",
        "            total_pred[classes[label]] += 1\n",
        "\n",
        "\n",
        "# print accuracy for each class\n",
        "for classname, correct_count in correct_pred.items():\n",
        "    accuracy = 100 * float(correct_count) / total_pred[classname]\n",
        "    print(f'Accuracy for class: {classname:5s} is {accuracy:.1f} %')"
      ]
    },
    {
      "cell_type": "markdown",
      "source": [
        "#  Ejercicio: Desafío abierto de CIFAR-10\n"
      ],
      "metadata": {
        "id": "1_v6lwnII0Ku"
      }
    },
    {
      "cell_type": "markdown",
      "source": [
        "\n",
        "En esta sección, podés experimentar con cualquier arquitectura CNN que desees en CIFAR-10.\n",
        "\n",
        "Ahora es tu trabajo experimentar con arquitecturas, hiperparámetros, funciones de pérdida y optimizadores para entrenar un modelo que logre **al menos un 70%** de accuracy en el conjunto de validación de CIFAR-10 en 10 épocas. Podés re-utilizar todo el código que necesites de la sección anterior y del notebook de la clase grabada.\n",
        "\n",
        "Acá está la documentación oficial de la API para cada componente del entrenamiento de una red.\n",
        "\n",
        "* Capas en el paquete torch.nn: http://pytorch.org/docs/stable/nn.html\n",
        "* Activaciones: http://pytorch.org/docs/stable/nn.html#non-linear-activations\n",
        "* Funciones de pérdida: http://pytorch.org/docs/stable/nn.html#loss-functions\n",
        "* Optimizadores: http://pytorch.org/docs/stable/optim.html"
      ],
      "metadata": {
        "id": "4GvzRsFmJjFe"
      }
    },
    {
      "cell_type": "markdown",
      "metadata": {
        "id": "lY95QlZewhf8"
      },
      "source": [
        "\n",
        "\n",
        "\n",
        "### Cosas que podrías probar:\n",
        "* **Tamaño de kernel**: arriba usamos 5x5; ¿Serían más eficientes los kernels más pequeños?\n",
        "-**Número de kernels**: arriba usamos 22 kernels. ¿Más o menos lo hacen mejor?\n",
        "-**Pooling vs Strided Convolution**: ¿Utilizas el pooling máximo o simplemente convoluciones con stride?\n",
        "-**Normalización por lotes**: intente agregar la normalización por lotes después de las capas de convolución ¿Tus redes se entrenan más rápido?\n",
        "-**Arquitectura de red**: la red anterior tiene dos capas convolucionales. ¿Puede hacerlo mejor con una red profunda? Las buenas arquitecturas para probar incluyen:\n",
        "  - [ResNets] (https://arxiv.org/abs/1512.03385) donde la entrada de la capa anterior se agrega a la salida.\n",
        "  - [DenseNets] (https://arxiv.org/abs/1608.06993) donde las entradas de las capas anteriores se concatenan juntas.\n",
        "  - Otras vistas en clase\n",
        "-**Pooling promedio global**: en lugar de aplanar y luego tener varias capas densas, realice convoluciones hasta que su imagen se vuelva pequeña (7x7 más o menos) y luego realice una operación de pooling promedio para obtener una imagen de 1x1 (1, 1, Filter #), que luego se transforma en un vector (Filter #). Esto se utiliza en la [Red GoogleNet] (https://arxiv.org/abs/1512.00567) (consulte la Tabla 1 para conocer su arquitectura).\n",
        "-**Regularización**: agregue regularización de pesos, o tal vez Dropout.\n",
        "\n",
        "### Consejos para el entrenamiento\n",
        "Para cada arquitectura de red que pruebe, debe ajustar la tasa de aprendizaje y otros hiperparámetros. Al hacer esto, hay un par de cosas importantes a tener en cuenta:\n",
        "\n",
        "- Si los hiperparámetros funcionan bien, deberías ver una mejora en unas pocas iteraciones.\n",
        "- Recordá el enfoque de grueso a fino para el ajuste de hiperparámetros: comenzá probando una amplia gama de hiperparámetros para solo unas pocas iteraciones de entrenamiento para encontrar las combinaciones de parámetros que funcionan.\n",
        "- Una vez que hayas encontrado algunos conjuntos de hiperparámetros que parecen funcionar, buscá con más precisión alrededor de estos hiperparámetros. Puede que tengas que entrenar para más épocas.\n",
        "- Tenés que utilizar el conjunto de validación para la búsqueda de hiperparámetros y guardarte el conjunto de prueba para evaluar tu arquitectura con los mejores parámetros seleccionados por el conjunto de validación.\n",
        "\n",
        "### Ir más allá\n",
        "Si te sentís aventurero, hay muchas otras features que podés implementar para intentar mejorar tu rendimiento.\n",
        "\n",
        "- Optimizadores alternativos: podés probar Adam, Adagrad, RMSprop, etc.\n",
        "- Funciones de activación alternativas como Leaky ReLU, PReLU, ELU o MaxOut.\n",
        "- Augmentation de datos\n",
        "\n",
        "### ¡Divertite y feliz entrenamiento!"
      ]
    },
    {
      "cell_type": "code",
      "metadata": {
        "id": "EMAi0mFIWD5J"
      },
      "source": [
        "########## inserte su código aquí ############\n",
        "\n",
        "\n",
        "# Constantes:\n",
        "in_channel = 3\n",
        "num_classes = 10\n",
        "h = 32\n",
        "w = 32\n",
        "\n",
        "#Ejemplo de solución\n",
        "model = nn.Sequential(\n",
        "            nn.Conv2d(in_channel, 64, kernel_size=5, padding=2), # h*w\n",
        "            nn.ReLU(),\n",
        "            nn.MaxPool2d(kernel_size=2, stride=2), # (h//2)*(w//2)\n",
        "\n",
        "            nn.Conv2d(64, 64, kernel_size=3, padding=1), # (h//2)*(w//2)\n",
        "            nn.BatchNorm2d(64),\n",
        "            nn.ReLU(),\n",
        "            nn.MaxPool2d(kernel_size=2, stride=2), # ((h//2)//2)*((w//2)//2)\n",
        "\n",
        "            nn.Conv2d(64, 256, kernel_size=3, padding=1), # ((h//2)//2)*((w//2)//2)\n",
        "            nn.Conv2d(256, 256, kernel_size=1), # ((h//2)//2)*((w//2)//2)\n",
        "            nn.BatchNorm2d(256),\n",
        "            nn.ReLU(),\n",
        "            nn.MaxPool2d(kernel_size=2, stride=2), # (((h//2)//2)//2)*(((w//2)//2)//2)\n",
        "\n",
        "            nn.Flatten(),\n",
        "\n",
        "            nn.Linear(256*(((h//2)//2)//2)*(((w//2)//2)//2), 1000), nn.ReLU(), nn.Dropout(0.3),\n",
        "            nn.Linear(1000, 100), nn.ReLU(), nn.Dropout(0.3),\n",
        "            nn.Linear(100, num_classes)\n",
        "        )\n",
        "\n",
        "def Accuracy(model, loader):\n",
        "    num_correct = 0\n",
        "    num_samples = 0\n",
        "    loss = 0\n",
        "    model.eval()  # set model to evaluation mode\n",
        "    with torch.no_grad():\n",
        "        for x, y in loader:\n",
        "            x = x.to(device=device)  # move to device, e.g. GPU\n",
        "            y = y.to(device=device)\n",
        "            scores = model(x)\n",
        "            _, preds = scores.max(1)\n",
        "            num_correct += (preds == y).sum()\n",
        "            num_samples += preds.size(0)\n",
        "        acc = float(num_correct) / num_samples\n",
        "    return acc\n",
        "\n",
        "\n",
        "def train(model, optimizer, epochs=1):\n",
        "    train_acc, valid_acc = [], []\n",
        "    model = model.to(device=device)  # mueve los parámetros del modelo to CPU/GPU\n",
        "    for e in range(epochs):\n",
        "        print('Epoch %d' % (e))\n",
        "        running_loss = 0.0\n",
        "        num_el = 0\n",
        "        for t, (x, y) in enumerate(trainloader):\n",
        "            model.train()\n",
        "            x = x.to(device=device)\n",
        "            y = y.to(device=device)\n",
        "\n",
        "            scores = model(x)\n",
        "            loss = F.cross_entropy(scores, y)\n",
        "            optimizer.zero_grad()\n",
        "            loss.backward()\n",
        "            optimizer.step()\n",
        "\n",
        "            running_loss += loss.item()\n",
        "            num_el += len(x)\n",
        "\n",
        "        t_acc, v_acc = Accuracy(model, trainloader), Accuracy(model, testloader)\n",
        "        train_acc.append(t_acc)\n",
        "        valid_acc.append(v_acc)\n",
        "        print(f'loss: {running_loss / num_el:.3f} val_acc: {v_acc}')\n",
        "    return train_acc, valid_acc"
      ],
      "execution_count": null,
      "outputs": []
    },
    {
      "cell_type": "code",
      "source": [
        "device"
      ],
      "metadata": {
        "colab": {
          "base_uri": "https://localhost:8080/"
        },
        "id": "i53cFF3tSDHA",
        "outputId": "1c7a6877-c843-475c-d13b-c956dce7f229"
      },
      "execution_count": null,
      "outputs": [
        {
          "output_type": "execute_result",
          "data": {
            "text/plain": [
              "device(type='cuda', index=0)"
            ]
          },
          "metadata": {},
          "execution_count": 20
        }
      ]
    },
    {
      "cell_type": "code",
      "metadata": {
        "id": "open_ended_accuracy",
        "colab": {
          "base_uri": "https://localhost:8080/"
        },
        "outputId": "ffb150e8-5147-4ada-bcc4-acbba87dfb52"
      },
      "source": [
        "learning_rate = 0.0015\n",
        "optimizer = optim.Adam(model.parameters(),lr=learning_rate)\n",
        "tranin_loss, valid_loss = train(model, optimizer, epochs=10)"
      ],
      "execution_count": null,
      "outputs": [
        {
          "output_type": "stream",
          "name": "stdout",
          "text": [
            "Epoch 0\n",
            "loss: 0.109 val_acc: 0.4605\n",
            "Epoch 1\n",
            "loss: 0.086 val_acc: 0.5602\n",
            "Epoch 2\n",
            "loss: 0.074 val_acc: 0.6552\n",
            "Epoch 3\n",
            "loss: 0.065 val_acc: 0.6619\n",
            "Epoch 4\n",
            "loss: 0.059 val_acc: 0.7053\n",
            "Epoch 5\n",
            "loss: 0.054 val_acc: 0.7188\n",
            "Epoch 6\n",
            "loss: 0.050 val_acc: 0.7347\n",
            "Epoch 7\n",
            "loss: 0.046 val_acc: 0.7379\n",
            "Epoch 8\n",
            "loss: 0.043 val_acc: 0.7566\n",
            "Epoch 9\n",
            "loss: 0.040 val_acc: 0.7479\n"
          ]
        }
      ]
    },
    {
      "cell_type": "code",
      "metadata": {
        "id": "E52zEvYMxlkD",
        "colab": {
          "base_uri": "https://localhost:8080/",
          "height": 285
        },
        "outputId": "579f68ad-c63e-412c-efdc-1605212a27b9"
      },
      "source": [
        "import matplotlib.pyplot as plt\n",
        "\n",
        "plt.plot(tranin_loss)\n",
        "plt.plot(valid_loss)\n",
        "\n",
        "print('Valid Acc:', valid_loss[-1]*100)"
      ],
      "execution_count": null,
      "outputs": [
        {
          "output_type": "stream",
          "name": "stdout",
          "text": [
            "Valid Acc: 74.79\n"
          ]
        },
        {
          "output_type": "display_data",
          "data": {
            "text/plain": [
              "<Figure size 432x288 with 1 Axes>"
            ],
            "image/png": "[encoded data removed]"
          },
          "metadata": {
            "needs_background": "light"
          }
        }
      ]
    }
  ],
  "metadata": {
    "kernelspec": {
      "display_name": "Python 3",
      "language": "python",
      "name": "python3"
    },
    "language_info": {
      "codemirror_mode": {
        "name": "ipython",
        "version": 3
      },
      "file_extension": ".py",
      "mimetype": "text/x-python",
      "name": "python",
      "nbconvert_exporter": "python",
      "pygments_lexer": "ipython3",
      "version": "3.7.13"
    },
    "colab": {
      "provenance": [],
      "toc_visible": true
    },
    "accelerator": "GPU",
    "widgets": {
      "application/vnd.jupyter.widget-state+json": {
        "d2f0935da03e4736840f2a8af1754e96": {
          "model_module": "@jupyter-widgets/controls",
          "model_name": "HBoxModel",
          "model_module_version": "1.5.0",
          "state": {
            "_dom_classes": [],
            "_model_module": "@jupyter-widgets/controls",
            "_model_module_version": "1.5.0",
            "_model_name": "HBoxModel",
            "_view_count": null,
            "_view_module": "@jupyter-widgets/controls",
            "_view_module_version": "1.5.0",
            "_view_name": "HBoxView",
            "box_style": "",
            "children": [
              "IPY_MODEL_844cbabcd0ac42a0be747208d0e6ee84",
              "IPY_MODEL_70dae4156b27414689e21e94662d9f13",
              "IPY_MODEL_aa611c147c2d43f1bd86da3e7589bc07"
            ],
            "layout": "IPY_MODEL_21dca4022be3410db38848b12084bf1d"
          }
        },
        "844cbabcd0ac42a0be747208d0e6ee84": {
          "model_module": "@jupyter-widgets/controls",
          "model_name": "HTMLModel",
          "model_module_version": "1.5.0",
          "state": {
            "_dom_classes": [],
            "_model_module": "@jupyter-widgets/controls",
            "_model_module_version": "1.5.0",
            "_model_name": "HTMLModel",
            "_view_count": null,
            "_view_module": "@jupyter-widgets/controls",
            "_view_module_version": "1.5.0",
            "_view_name": "HTMLView",
            "description": "",
            "description_tooltip": null,
            "layout": "IPY_MODEL_409703233c5c4e5d9d9e72f2cf8a7125",
            "placeholder": "​",
            "style": "IPY_MODEL_ec418646ca4b4d3ea57c038a1dd5a826",
            "value": "100%"
          }
        },
        "70dae4156b27414689e21e94662d9f13": {
          "model_module": "@jupyter-widgets/controls",
          "model_name": "FloatProgressModel",
          "model_module_version": "1.5.0",
          "state": {
            "_dom_classes": [],
            "_model_module": "@jupyter-widgets/controls",
            "_model_module_version": "1.5.0",
            "_model_name": "FloatProgressModel",
            "_view_count": null,
            "_view_module": "@jupyter-widgets/controls",
            "_view_module_version": "1.5.0",
            "_view_name": "ProgressView",
            "bar_style": "success",
            "description": "",
            "description_tooltip": null,
            "layout": "IPY_MODEL_210008047cee4d5f98a418913e74ec04",
            "max": 170498071,
            "min": 0,
            "orientation": "horizontal",
            "style": "IPY_MODEL_2b4892eadbdd4a9e804311d19c4826f2",
            "value": 170498071
          }
        },
        "aa611c147c2d43f1bd86da3e7589bc07": {
          "model_module": "@jupyter-widgets/controls",
          "model_name": "HTMLModel",
          "model_module_version": "1.5.0",
          "state": {
            "_dom_classes": [],
            "_model_module": "@jupyter-widgets/controls",
            "_model_module_version": "1.5.0",
            "_model_name": "HTMLModel",
            "_view_count": null,
            "_view_module": "@jupyter-widgets/controls",
            "_view_module_version": "1.5.0",
            "_view_name": "HTMLView",
            "description": "",
            "description_tooltip": null,
            "layout": "IPY_MODEL_a427117d5bb541f5b5d6a64ca485ad9b",
            "placeholder": "​",
            "style": "IPY_MODEL_59b0ddc22469465c89e0e65750a33d62",
            "value": " 170498071/170498071 [00:14&lt;00:00, 13199746.75it/s]"
          }
        },
        "21dca4022be3410db38848b12084bf1d": {
          "model_module": "@jupyter-widgets/base",
          "model_name": "LayoutModel",
          "model_module_version": "1.2.0",
          "state": {
            "_model_module": "@jupyter-widgets/base",
            "_model_module_version": "1.2.0",
            "_model_name": "LayoutModel",
            "_view_count": null,
            "_view_module": "@jupyter-widgets/base",
            "_view_module_version": "1.2.0",
            "_view_name": "LayoutView",
            "align_content": null,
            "align_items": null,
            "align_self": null,
            "border": null,
            "bottom": null,
            "display": null,
            "flex": null,
            "flex_flow": null,
            "grid_area": null,
            "grid_auto_columns": null,
            "grid_auto_flow": null,
            "grid_auto_rows": null,
            "grid_column": null,
            "grid_gap": null,
            "grid_row": null,
            "grid_template_areas": null,
            "grid_template_columns": null,
            "grid_template_rows": null,
            "height": null,
            "justify_content": null,
            "justify_items": null,
            "left": null,
            "margin": null,
            "max_height": null,
            "max_width": null,
            "min_height": null,
            "min_width": null,
            "object_fit": null,
            "object_position": null,
            "order": null,
            "overflow": null,
            "overflow_x": null,
            "overflow_y": null,
            "padding": null,
            "right": null,
            "top": null,
            "visibility": null,
            "width": null
          }
        },
        "409703233c5c4e5d9d9e72f2cf8a7125": {
          "model_module": "@jupyter-widgets/base",
          "model_name": "LayoutModel",
          "model_module_version": "1.2.0",
          "state": {
            "_model_module": "@jupyter-widgets/base",
            "_model_module_version": "1.2.0",
            "_model_name": "LayoutModel",
            "_view_count": null,
            "_view_module": "@jupyter-widgets/base",
            "_view_module_version": "1.2.0",
            "_view_name": "LayoutView",
            "align_content": null,
            "align_items": null,
            "align_self": null,
            "border": null,
            "bottom": null,
            "display": null,
            "flex": null,
            "flex_flow": null,
            "grid_area": null,
            "grid_auto_columns": null,
            "grid_auto_flow": null,
            "grid_auto_rows": null,
            "grid_column": null,
            "grid_gap": null,
            "grid_row": null,
            "grid_template_areas": null,
            "grid_template_columns": null,
            "grid_template_rows": null,
            "height": null,
            "justify_content": null,
            "justify_items": null,
            "left": null,
            "margin": null,
            "max_height": null,
            "max_width": null,
            "min_height": null,
            "min_width": null,
            "object_fit": null,
            "object_position": null,
            "order": null,
            "overflow": null,
            "overflow_x": null,
            "overflow_y": null,
            "padding": null,
            "right": null,
            "top": null,
            "visibility": null,
            "width": null
          }
        },
        "ec418646ca4b4d3ea57c038a1dd5a826": {
          "model_module": "@jupyter-widgets/controls",
          "model_name": "DescriptionStyleModel",
          "model_module_version": "1.5.0",
          "state": {
            "_model_module": "@jupyter-widgets/controls",
            "_model_module_version": "1.5.0",
            "_model_name": "DescriptionStyleModel",
            "_view_count": null,
            "_view_module": "@jupyter-widgets/base",
            "_view_module_version": "1.2.0",
            "_view_name": "StyleView",
            "description_width": ""
          }
        },
        "210008047cee4d5f98a418913e74ec04": {
          "model_module": "@jupyter-widgets/base",
          "model_name": "LayoutModel",
          "model_module_version": "1.2.0",
          "state": {
            "_model_module": "@jupyter-widgets/base",
            "_model_module_version": "1.2.0",
            "_model_name": "LayoutModel",
            "_view_count": null,
            "_view_module": "@jupyter-widgets/base",
            "_view_module_version": "1.2.0",
            "_view_name": "LayoutView",
            "align_content": null,
            "align_items": null,
            "align_self": null,
            "border": null,
            "bottom": null,
            "display": null,
            "flex": null,
            "flex_flow": null,
            "grid_area": null,
            "grid_auto_columns": null,
            "grid_auto_flow": null,
            "grid_auto_rows": null,
            "grid_column": null,
            "grid_gap": null,
            "grid_row": null,
            "grid_template_areas": null,
            "grid_template_columns": null,
            "grid_template_rows": null,
            "height": null,
            "justify_content": null,
            "justify_items": null,
            "left": null,
            "margin": null,
            "max_height": null,
            "max_width": null,
            "min_height": null,
            "min_width": null,
            "object_fit": null,
            "object_position": null,
            "order": null,
            "overflow": null,
            "overflow_x": null,
            "overflow_y": null,
            "padding": null,
            "right": null,
            "top": null,
            "visibility": null,
            "width": null
          }
        },
        "2b4892eadbdd4a9e804311d19c4826f2": {
          "model_module": "@jupyter-widgets/controls",
          "model_name": "ProgressStyleModel",
          "model_module_version": "1.5.0",
          "state": {
            "_model_module": "@jupyter-widgets/controls",
            "_model_module_version": "1.5.0",
            "_model_name": "ProgressStyleModel",
            "_view_count": null,
            "_view_module": "@jupyter-widgets/base",
            "_view_module_version": "1.2.0",
            "_view_name": "StyleView",
            "bar_color": null,
            "description_width": ""
          }
        },
        "a427117d5bb541f5b5d6a64ca485ad9b": {
          "model_module": "@jupyter-widgets/base",
          "model_name": "LayoutModel",
          "model_module_version": "1.2.0",
          "state": {
            "_model_module": "@jupyter-widgets/base",
            "_model_module_version": "1.2.0",
            "_model_name": "LayoutModel",
            "_view_count": null,
            "_view_module": "@jupyter-widgets/base",
            "_view_module_version": "1.2.0",
            "_view_name": "LayoutView",
            "align_content": null,
            "align_items": null,
            "align_self": null,
            "border": null,
            "bottom": null,
            "display": null,
            "flex": null,
            "flex_flow": null,
            "grid_area": null,
            "grid_auto_columns": null,
            "grid_auto_flow": null,
            "grid_auto_rows": null,
            "grid_column": null,
            "grid_gap": null,
            "grid_row": null,
            "grid_template_areas": null,
            "grid_template_columns": null,
            "grid_template_rows": null,
            "height": null,
            "justify_content": null,
            "justify_items": null,
            "left": null,
            "margin": null,
            "max_height": null,
            "max_width": null,
            "min_height": null,
            "min_width": null,
            "object_fit": null,
            "object_position": null,
            "order": null,
            "overflow": null,
            "overflow_x": null,
            "overflow_y": null,
            "padding": null,
            "right": null,
            "top": null,
            "visibility": null,
            "width": null
          }
        },
        "59b0ddc22469465c89e0e65750a33d62": {
          "model_module": "@jupyter-widgets/controls",
          "model_name": "DescriptionStyleModel",
          "model_module_version": "1.5.0",
          "state": {
            "_model_module": "@jupyter-widgets/controls",
            "_model_module_version": "1.5.0",
            "_model_name": "DescriptionStyleModel",
            "_view_count": null,
            "_view_module": "@jupyter-widgets/base",
            "_view_module_version": "1.2.0",
            "_view_name": "StyleView",
            "description_width": ""
          }
        }
      }
    }
  },
  "nbformat": 4,
  "nbformat_minor": 0
}